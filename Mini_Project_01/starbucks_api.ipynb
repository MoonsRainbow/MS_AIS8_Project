{
 "cells": [
  {
   "cell_type": "code",
   "execution_count": null,
   "id": "33a202dd",
   "metadata": {},
   "outputs": [],
   "source": [
    "# 라이브러리 Import Cell\n",
    "import time\n",
    "import pandas as pd\n",
    "from tqdm import tqdm\n",
    "from requests import request\n",
    "\n",
    "tqdm.pandas()"
   ]
  },
  {
   "cell_type": "markdown",
   "id": "45fbe444",
   "metadata": {},
   "source": [
    "# 리버스 엔지니어링\n",
    "<br><br>\n",
    "### 매장 URL\n",
    ": https://www.starbucks.co.kr/store/getStore.do\n",
    "- 조건에 맞는 매장 리스트를 요청하고, 응답으로 매장 리스트를 반환합니다.\n",
    "- p_sido_cd의 값에 해당하는 시도의 전체 매장을 반환합니다.\n",
    "<br><br>\n",
    "\n",
    "### 시도 카테고리 URL\n",
    ": https://www.starbucks.co.kr/store/getSidoList.do\n",
    "- 시도 카테고리 목록을 반환합니다.\n",
    "<br><br>"
   ]
  },
  {
   "cell_type": "code",
   "execution_count": null,
   "id": "33414540",
   "metadata": {},
   "outputs": [],
   "source": [
    "# 상수 Cell\n",
    "\n",
    "# 스크래핑인 것을 숨기기 위한 1차 가림막으로 headers 선언.\n",
    "HEADERS = {\n",
    "    'User-Agent': 'Mozilla/5.0 (Macintosh; Intel Mac OS X 10_15_7) AppleWebKit/537.36 (KHTML, like Gecko) Chrome/108.0.0.0 Safari/537.36'\n",
    "}\n",
    "\n",
    "# 각 URI의 식별자를 Key로 지정.\n",
    "# request 메서드와 URI로 이루어진 튜플을 Value로 지정.\n",
    "URI = {\n",
    "    'STORE_LIST': ('post', 'https://www.starbucks.co.kr/store/getStore.do'),\n",
    "    'CAT_SIDO': ('post', 'https://www.starbucks.co.kr/store/getSidoList.do'),\n",
    "    'CAT_GUGUN': ('post', 'https://www.starbucks.co.kr/store/getGugunList.do')\n",
    "}"
   ]
  },
  {
   "cell_type": "code",
   "execution_count": null,
   "id": "11636047",
   "metadata": {},
   "outputs": [],
   "source": [
    "# 변수 Cell\n",
    "\n",
    "# 각 요청에 필요한 데이터 저장\n",
    "PAYLOAD = {\n",
    "    'STORE_LIST': {\n",
    "        'in_biz_cds': '0',\n",
    "        'in_scodes': '0',\n",
    "        'ins_lat': '37.56682',\n",
    "        'ins_lng': '126.97865',\n",
    "        'search_text': '',\n",
    "        'p_sido_cd': '01',\n",
    "        'p_gugun_cd': '',\n",
    "        'isError': 'true',\n",
    "        'in_distance': '0',\n",
    "        'in_biz_cd': '',\n",
    "        'iend': '1000',\n",
    "        'searchType': 'C',\n",
    "        'set_date': '',\n",
    "        'todayPop': '0',\n",
    "        'all_store': '0',\n",
    "        'T03': '0',\n",
    "        'T01': '0',\n",
    "        'T27': '0',\n",
    "        'T12': '0',\n",
    "        'T09': '0',\n",
    "        'T30': '0',\n",
    "        'T05': '0',\n",
    "        'T22': '0',\n",
    "        'T21': '0',\n",
    "        'T10': '0',\n",
    "        'T36': '0',\n",
    "        'T43': '0',\n",
    "        'T48': '0',\n",
    "        'P10': '0',\n",
    "        'P50': '0',\n",
    "        'P20': '0',\n",
    "        'P60': '0',\n",
    "        'P30': '0',\n",
    "        'P70': '0',\n",
    "        'P40': '0',\n",
    "        'P80': '0',\n",
    "        'whcroad_yn': '0',\n",
    "        'P90': '0',\n",
    "        'new_bool': '0'\n",
    "    },\n",
    "    'CAT_SIDO': {},\n",
    "    'CAT_GUGUN': {}\n",
    "}\n",
    "\n",
    "COLS = {\n",
    "    'STORE': {\n",
    "        'sido_code': '시도 코드',\n",
    "        'sido_name': '시도 명',\n",
    "        'gugun_code': '구군 코드',\n",
    "        'gugun_name': '구군 명',\n",
    "        'addr': '주소',\n",
    "        'doro_address': '도로명 주소',\n",
    "        'tel': '전화 번호',\n",
    "        'fax': '팩스 번호',\n",
    "        'my_siren_order_store_yn': '나의 사이렌 오더 여부',\n",
    "        'lat': '위도',\n",
    "        'lot': '경도'\n",
    "    },\n",
    "    'CAT_SIDO': {\n",
    "        'sido_cd': '시도 코드',\n",
    "        'sido_nm': '시도 명'\n",
    "    }\n",
    "    \n",
    "}"
   ]
  },
  {
   "cell_type": "code",
   "execution_count": null,
   "id": "029910d1",
   "metadata": {},
   "outputs": [],
   "source": [
    "# pandas.read_json() 으로 요청 시도.\n",
    "pd.read_json(URL['CAT_SIDO'][1])\n",
    "\n",
    "# status 404: 요청한 페이지가 존재하지 않음. \n",
    "# pandas.read_json() 은 POST를 지원하지 않는 것으로 보여짐."
   ]
  },
  {
   "cell_type": "code",
   "execution_count": null,
   "id": "958d94ad",
   "metadata": {},
   "outputs": [],
   "source": [
    "# requests post 로 시도 카테고리 가져오기\n",
    "resp_cat_sido = request(*URI['CAT_SIDO'], headers=HEADERS)\n",
    "resp_cat_sido"
   ]
  },
  {
   "cell_type": "code",
   "execution_count": null,
   "id": "59e938d4",
   "metadata": {},
   "outputs": [],
   "source": [
    "# json 데이터로 변환\n",
    "json_cat_sido = resp_cat_sido.json()\n",
    "json_cat_sido"
   ]
  },
  {
   "cell_type": "code",
   "execution_count": null,
   "id": "6e38eab6",
   "metadata": {},
   "outputs": [],
   "source": [
    "# 데이터프레임으로 변환\n",
    "df_cat_sido = pd.DataFrame(json_cat_sido['list'])\n",
    "df_cat_sido"
   ]
  },
  {
   "cell_type": "code",
   "execution_count": null,
   "id": "801dd3bd",
   "metadata": {},
   "outputs": [],
   "source": [
    "# 데이터프레임 전처리\n",
    "df_cat_sido = df_cat_sido[['sido_cd', 'sido_nm']]\n",
    "df_cat_sido"
   ]
  },
  {
   "cell_type": "code",
   "execution_count": null,
   "id": "1a215aab",
   "metadata": {},
   "outputs": [],
   "source": [
    "# sido 데이터를 이용해 구군을 선택하지 않고 시도의 전체 매장 불러오기 시도\n",
    "resp_store_list = request(*URI['STORE_LIST'], headers=HEADERS, data=PAYLOAD['STORE_LIST'])\n",
    "resp_store_list"
   ]
  },
  {
   "cell_type": "code",
   "execution_count": null,
   "id": "6deaa23d",
   "metadata": {},
   "outputs": [],
   "source": [
    "# 서울 시의 599개의 매장 정보 가져오기 성공, json 변환\n",
    "json_store_list = resp_store_list.json()\n",
    "json_store_list"
   ]
  },
  {
   "cell_type": "code",
   "execution_count": null,
   "id": "ebfe91e9",
   "metadata": {},
   "outputs": [],
   "source": [
    "# json 데이터를 데이터프레임으로 변환\n",
    "df_store_list = pd.DataFrame(json_store_list['list'])\n",
    "df_store_list"
   ]
  },
  {
   "cell_type": "code",
   "execution_count": null,
   "id": "cf149511",
   "metadata": {},
   "outputs": [],
   "source": [
    "# 데이터프레임 전처리\n",
    "\n",
    "# 컬럼 순서 변경\n",
    "df_store_list = df_store_list[list(COLS['STORE'].keys())]\n",
    "\n",
    "# 컬럼 번역\n",
    "df_store_list.columns = list(COLS['STORE'].values())\n",
    "\n",
    "# 위도, 경도 형 변환\n",
    "df_store_list = df_store_list.astype({'위도': float, '경도': float})\n",
    "\n",
    "df_store_list"
   ]
  },
  {
   "cell_type": "code",
   "execution_count": null,
   "id": "2df12ce5",
   "metadata": {},
   "outputs": [],
   "source": [
    "# 데이터프레임 정보 확인 및 결측치 여부 확인\n",
    "df_store_list.info()"
   ]
  },
  {
   "cell_type": "markdown",
   "id": "d06eee91",
   "metadata": {},
   "source": [
    "# 함수화\n",
    "<br>\n",
    "\n",
    "### 시도 카테고리 수집 함수\n",
    "1. 시도 카테고리 정보를 요청한다.\n",
    "2. 받은 응답값을 전처리하여 반환한다.\n",
    "<br><br>\n",
    "\n",
    "### 시도의 전체 매장 수집 함수\n",
    "1. 시도 카테고리를 입력받는다.\n",
    "2. 시도의 전체 매장 정보를 요청한다.\n",
    "3. 받은 응답값을 전처리한다.\n",
    "4. 전처리된 데이터프레임을 반환한다.\n",
    "<br><br>"
   ]
  },
  {
   "cell_type": "code",
   "execution_count": null,
   "id": "16e6f28e",
   "metadata": {},
   "outputs": [],
   "source": [
    "# 시도 카테고리 수집 함수\n",
    "def get_cat_sido():\n",
    "    \"\"\"\n",
    "    시도 카테고리 수집 함수.\n",
    "    \n",
    "    시도 카테고리 API에 요청을 보낸 후, 응답을 받습니다.\n",
    "    받은 응답은 response => json => DataFrame 순으로 형 변환 과정을 거칩니다.\n",
    "    형 변환이 모두 완료되면, 사용할 컬럼만 가져옵니다.\n",
    "    컬럼명을 한국어로 번역하여 반환합니다.\n",
    "    \n",
    "    -------\n",
    "    :return pandas.DataFrame: 수집된 '시도 코드', '시도 명' DataFrame\n",
    "    \"\"\"\n",
    "    \n",
    "    # 시도 카테고리 API 요청 및 response 객체 초기화\n",
    "    resp_cat_sido = request(*URI['CAT_SIDO'], headers=HEADERS)\n",
    "    \n",
    "    # response 객체 => json 형 변환\n",
    "    json_cat_sido = resp_cat_sido.json()\n",
    "    \n",
    "    # json => DataFrame 형 변환\n",
    "    df_cat_sido = pd.DataFrame(json_cat_sido['list'])\n",
    "    \n",
    "    # 컬럼 정리\n",
    "    df_cat_sido = df_cat_sido[list(COLS['CAT_SIDO'].keys())]\n",
    "    \n",
    "    # 컬럼 번역\n",
    "    df_cat_sido.columns = list(COLS['CAT_SIDO'].values())\n",
    "    \n",
    "    # DataFrame 반환\n",
    "    return df_cat_sido\n",
    "\n",
    "\n",
    "get_cat_sido()"
   ]
  },
  {
   "cell_type": "code",
   "execution_count": null,
   "id": "1173b2fc",
   "metadata": {},
   "outputs": [],
   "source": [
    "# 시도의 전체 매장 수집 함수\n",
    "def get_sido_store(sido_code: str):\n",
    "    \"\"\"\n",
    "    시도 전체 매장 수집 함수.\n",
    "    \n",
    "    매장 정보 API에 요청을 보낸 후, 응답을 받습니다.\n",
    "    받은 응답은 response => json => DataFrame 순으로 형 변환 과정을 거칩니다.\n",
    "    형 변환이 모두 완료되면, 사용할 컬럼만 가져온 후 컬럼명을 한국어로 번역합니다.\n",
    "    object로 선언되어 있는 위도, 경도 데이터를 float으로 형 변환한 후 반환합니다.\n",
    "    \n",
    "    ------\n",
    "    params sido_code: str, 시도 코드\n",
    "    \n",
    "    -------\n",
    "    :return pandas.DataFrame: 수집된 매장 정보 DataFrame\n",
    "    \"\"\"\n",
    "    \n",
    "    # 입력받은 시도 코드 파라미터로 Request Data 초기화\n",
    "    PAYLOAD['STORE_LIST']['p_sido_cd'] = sido_code\n",
    "    \n",
    "    # 시도 카테고리 API 요청 및 response 객체 초기화\n",
    "    resp_store_list = request(*URI['STORE_LIST'], headers=HEADERS, data=PAYLOAD['STORE_LIST'])\n",
    "    \n",
    "    # response 객체 => json 형 변환\n",
    "    json_store_list = resp_store_list.json()\n",
    "    \n",
    "    # json => DataFrame 형 변환\n",
    "    df_store_list = pd.DataFrame(json_store_list['list'])\n",
    "    \n",
    "    # 컬럼 정리\n",
    "    df_store_list = df_store_list[list(COLS['STORE'].keys())]\n",
    "    \n",
    "    # 컬럼 번역\n",
    "    df_store_list.columns = list(COLS['STORE'].values())\n",
    "    \n",
    "    # object로 선언된 위도, 경도 데이터 float로 형 변환\n",
    "    df_store_list = df_store_list.astype({'위도': float, '경도': float})\n",
    "    \n",
    "    # DataFrame 반환\n",
    "    return df_store_list\n",
    "    \n",
    "    \n",
    "get_sido_store('01')"
   ]
  },
  {
   "cell_type": "code",
   "execution_count": null,
   "id": "d11447c1",
   "metadata": {},
   "outputs": [],
   "source": [
    "df_store = pd.concat(list(get_cat_sido()['시도 코드'].progress_map(get_sido_store)), ignore_index=True)"
   ]
  },
  {
   "cell_type": "code",
   "execution_count": null,
   "id": "19fdfb2d",
   "metadata": {},
   "outputs": [],
   "source": [
    "df_store"
   ]
  },
  {
   "cell_type": "code",
   "execution_count": null,
   "id": "80c2d75d",
   "metadata": {},
   "outputs": [],
   "source": [
    "df_store.to_csv('./data/starbucks/starbucks_stores.csv', index=False)"
   ]
  },
  {
   "cell_type": "code",
   "execution_count": null,
   "id": "0340e19a",
   "metadata": {},
   "outputs": [],
   "source": [
    "pd.read_csv('./data/starbucks/starbucks_stores.csv', dtype={'시도 코드': object, '구군 코드': object})"
   ]
  },
  {
   "cell_type": "code",
   "execution_count": null,
   "id": "0cd1d3ca",
   "metadata": {},
   "outputs": [],
   "source": []
  }
 ],
 "metadata": {
  "kernelspec": {
   "display_name": "Python 3 (ipykernel)",
   "language": "python",
   "name": "python3"
  },
  "language_info": {
   "codemirror_mode": {
    "name": "ipython",
    "version": 3
   },
   "file_extension": ".py",
   "mimetype": "text/x-python",
   "name": "python",
   "nbconvert_exporter": "python",
   "pygments_lexer": "ipython3",
   "version": "3.9.13"
  }
 },
 "nbformat": 4,
 "nbformat_minor": 5
}
