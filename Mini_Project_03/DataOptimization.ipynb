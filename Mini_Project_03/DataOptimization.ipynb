{
 "cells": [
  {
   "cell_type": "code",
   "execution_count": 1,
   "id": "ee1e1d2b",
   "metadata": {},
   "outputs": [],
   "source": [
    "import requests\n",
    "import numpy as np\n",
    "import pandas as pd"
   ]
  },
  {
   "cell_type": "code",
   "execution_count": 2,
   "id": "00c1e6f8",
   "metadata": {},
   "outputs": [
    {
     "data": {
      "text/plain": [
       "(12, 3537397)"
      ]
     },
     "execution_count": 2,
     "metadata": {},
     "output_type": "execute_result"
    }
   ],
   "source": [
    "file_count = 12\n",
    "row_count = int(42448764 / file_count)\n",
    "file_count, row_count"
   ]
  },
  {
   "cell_type": "code",
   "execution_count": null,
   "id": "626d5030",
   "metadata": {},
   "outputs": [],
   "source": [
    "for fn in range(1, file_count + 1):\n",
    "    df_sample = pd.read_csv(\n",
    "        './data/2019-Oct.csv', \n",
    "        skiprows=range(1, 1 + (row_count * (fn - 1))),\n",
    "        nrows=row_count\n",
    "    )\n",
    "    df_sample.to_parquet(\n",
    "        f'./data/2019-Oct-{fn}.parquet.gzip', \n",
    "        compression='gzip'\n",
    "    )"
   ]
  },
  {
   "cell_type": "code",
   "execution_count": 42,
   "id": "9c53e963",
   "metadata": {},
   "outputs": [],
   "source": [
    "df_sample_12 = pd.read_parquet(\n",
    "    './data/2019-Oct-12.parquet.gzip'\n",
    ")"
   ]
  },
  {
   "cell_type": "code",
   "execution_count": 43,
   "id": "a730d236",
   "metadata": {},
   "outputs": [
    {
     "name": "stdout",
     "output_type": "stream",
     "text": [
      "<class 'pandas.core.frame.DataFrame'>\n",
      "RangeIndex: 3537397 entries, 0 to 3537396\n",
      "Data columns (total 9 columns):\n",
      " #   Column         Dtype  \n",
      "---  ------         -----  \n",
      " 0   event_time     object \n",
      " 1   event_type     object \n",
      " 2   product_id     int64  \n",
      " 3   category_id    int64  \n",
      " 4   category_code  object \n",
      " 5   brand          object \n",
      " 6   price          float64\n",
      " 7   user_id        int64  \n",
      " 8   user_session   object \n",
      "dtypes: float64(1), int64(3), object(5)\n",
      "memory usage: 242.9+ MB\n"
     ]
    }
   ],
   "source": [
    "df_sample_12.info()"
   ]
  },
  {
   "cell_type": "code",
   "execution_count": 44,
   "id": "1e9b2f27",
   "metadata": {},
   "outputs": [
    {
     "data": {
      "text/html": [
       "<div>\n",
       "<style scoped>\n",
       "    .dataframe tbody tr th:only-of-type {\n",
       "        vertical-align: middle;\n",
       "    }\n",
       "\n",
       "    .dataframe tbody tr th {\n",
       "        vertical-align: top;\n",
       "    }\n",
       "\n",
       "    .dataframe thead th {\n",
       "        text-align: right;\n",
       "    }\n",
       "</style>\n",
       "<table border=\"1\" class=\"dataframe\">\n",
       "  <thead>\n",
       "    <tr style=\"text-align: right;\">\n",
       "      <th></th>\n",
       "      <th>event_time</th>\n",
       "      <th>event_type</th>\n",
       "      <th>product_id</th>\n",
       "      <th>category_id</th>\n",
       "      <th>category_code</th>\n",
       "      <th>brand</th>\n",
       "      <th>price</th>\n",
       "      <th>user_id</th>\n",
       "      <th>user_session</th>\n",
       "    </tr>\n",
       "  </thead>\n",
       "  <tbody>\n",
       "    <tr>\n",
       "      <th>669080</th>\n",
       "      <td>2019-10-29 15:06:13 UTC</td>\n",
       "      <td>view</td>\n",
       "      <td>12100811</td>\n",
       "      <td>2053013555816432043</td>\n",
       "      <td>kids.skates</td>\n",
       "      <td>xiaomi</td>\n",
       "      <td>377.13</td>\n",
       "      <td>565451513</td>\n",
       "      <td>8040d1a2-285c-475d-a13d-54477c00eba1</td>\n",
       "    </tr>\n",
       "  </tbody>\n",
       "</table>\n",
       "</div>"
      ],
      "text/plain": [
       "                     event_time event_type  product_id          category_id  \\\n",
       "669080  2019-10-29 15:06:13 UTC       view    12100811  2053013555816432043   \n",
       "\n",
       "       category_code   brand   price    user_id  \\\n",
       "669080   kids.skates  xiaomi  377.13  565451513   \n",
       "\n",
       "                                user_session  \n",
       "669080  8040d1a2-285c-475d-a13d-54477c00eba1  "
      ]
     },
     "execution_count": 44,
     "metadata": {},
     "output_type": "execute_result"
    }
   ],
   "source": [
    "df_sample_12.sample(1)"
   ]
  },
  {
   "cell_type": "code",
   "execution_count": 31,
   "id": "760e1573",
   "metadata": {},
   "outputs": [],
   "source": [
    "# df_sample_12['event_time'] = pd.to_datetime(df_sample_12['event_time'])"
   ]
  },
  {
   "cell_type": "code",
   "execution_count": 32,
   "id": "72c31faf",
   "metadata": {},
   "outputs": [],
   "source": [
    "# view: 0, cart: 1, remove_from_cart: 2, purchase: 3\n",
    "# df_sample_12.loc[df_sample_12['event_type'] == 'view', 'event_type'] = 0\n",
    "# df_sample_12.loc[df_sample_12['event_type'] == 'cart', 'event_type'] = 1\n",
    "# df_sample_12.loc[df_sample_12['event_type'] == 'remove_from_cart', 'event_type'] = 2\n",
    "# df_sample_12.loc[df_sample_12['event_type'] == 'purchase', 'event_type'] = 3\n",
    "# df_sample_12['event_type'] = pd.to_numeric(df_sample_12['event_type'], downcast='unsigned')"
   ]
  },
  {
   "cell_type": "code",
   "execution_count": 35,
   "id": "6439f729",
   "metadata": {},
   "outputs": [],
   "source": [
    "# df_sample_12['product_id'] = pd.to_numeric(df_sample_12['product_id'], downcast='unsigned')"
   ]
  },
  {
   "cell_type": "code",
   "execution_count": 36,
   "id": "d3707787",
   "metadata": {},
   "outputs": [],
   "source": [
    "# df_sample_12['category_id'] = pd.to_numeric(df_sample_12['category_id'], downcast='unsigned')"
   ]
  },
  {
   "cell_type": "code",
   "execution_count": 40,
   "id": "a2127ac3",
   "metadata": {},
   "outputs": [
    {
     "data": {
      "text/plain": [
       "603"
      ]
     },
     "execution_count": 40,
     "metadata": {},
     "output_type": "execute_result"
    }
   ],
   "source": [
    "# df_sample_12['category_id'].nunique()"
   ]
  },
  {
   "cell_type": "code",
   "execution_count": 41,
   "id": "2d859be7",
   "metadata": {},
   "outputs": [
    {
     "data": {
      "text/plain": [
       "123"
      ]
     },
     "execution_count": 41,
     "metadata": {},
     "output_type": "execute_result"
    }
   ],
   "source": [
    "# df_sample_12['category_code'].nunique()"
   ]
  },
  {
   "cell_type": "code",
   "execution_count": 37,
   "id": "9c426b1a",
   "metadata": {},
   "outputs": [
    {
     "name": "stdout",
     "output_type": "stream",
     "text": [
      "<class 'pandas.core.frame.DataFrame'>\n",
      "RangeIndex: 3537397 entries, 0 to 3537396\n",
      "Data columns (total 9 columns):\n",
      " #   Column         Dtype              \n",
      "---  ------         -----              \n",
      " 0   event_time     datetime64[ns, UTC]\n",
      " 1   event_type     uint8              \n",
      " 2   product_id     uint32             \n",
      " 3   category_id    uint64             \n",
      " 4   category_code  object             \n",
      " 5   brand          object             \n",
      " 6   price          float64            \n",
      " 7   user_id        int64              \n",
      " 8   user_session   object             \n",
      "dtypes: datetime64[ns, UTC](1), float64(1), int64(1), object(3), uint32(1), uint64(1), uint8(1)\n",
      "memory usage: 205.8+ MB\n"
     ]
    }
   ],
   "source": [
    "df_sample_12.info()"
   ]
  },
  {
   "cell_type": "code",
   "execution_count": 38,
   "id": "6b823a7f",
   "metadata": {},
   "outputs": [
    {
     "data": {
      "text/html": [
       "<div>\n",
       "<style scoped>\n",
       "    .dataframe tbody tr th:only-of-type {\n",
       "        vertical-align: middle;\n",
       "    }\n",
       "\n",
       "    .dataframe tbody tr th {\n",
       "        vertical-align: top;\n",
       "    }\n",
       "\n",
       "    .dataframe thead th {\n",
       "        text-align: right;\n",
       "    }\n",
       "</style>\n",
       "<table border=\"1\" class=\"dataframe\">\n",
       "  <thead>\n",
       "    <tr style=\"text-align: right;\">\n",
       "      <th></th>\n",
       "      <th>event_time</th>\n",
       "      <th>event_type</th>\n",
       "      <th>product_id</th>\n",
       "      <th>category_id</th>\n",
       "      <th>category_code</th>\n",
       "      <th>brand</th>\n",
       "      <th>price</th>\n",
       "      <th>user_id</th>\n",
       "      <th>user_session</th>\n",
       "    </tr>\n",
       "  </thead>\n",
       "  <tbody>\n",
       "    <tr>\n",
       "      <th>0</th>\n",
       "      <td>2019-10-29 04:49:36+00:00</td>\n",
       "      <td>0</td>\n",
       "      <td>4700478</td>\n",
       "      <td>2053013560899928785</td>\n",
       "      <td>auto.accessories.videoregister</td>\n",
       "      <td>sho-me</td>\n",
       "      <td>141.91</td>\n",
       "      <td>514013862</td>\n",
       "      <td>53cfcfc2-671d-4e90-a21a-221d32cab9bc</td>\n",
       "    </tr>\n",
       "    <tr>\n",
       "      <th>1</th>\n",
       "      <td>2019-10-29 04:49:36+00:00</td>\n",
       "      <td>0</td>\n",
       "      <td>4000189</td>\n",
       "      <td>2053013566142809077</td>\n",
       "      <td>construction.tools.generator</td>\n",
       "      <td>tefal</td>\n",
       "      <td>167.29</td>\n",
       "      <td>529024659</td>\n",
       "      <td>24d5149d-7fca-4bb6-9a01-16c3072eaf15</td>\n",
       "    </tr>\n",
       "    <tr>\n",
       "      <th>2</th>\n",
       "      <td>2019-10-29 04:49:36+00:00</td>\n",
       "      <td>0</td>\n",
       "      <td>5701166</td>\n",
       "      <td>2053013553970938175</td>\n",
       "      <td>auto.accessories.player</td>\n",
       "      <td>None</td>\n",
       "      <td>144.12</td>\n",
       "      <td>563540902</td>\n",
       "      <td>cc9e09e5-775e-4485-9765-c106c8956c7b</td>\n",
       "    </tr>\n",
       "    <tr>\n",
       "      <th>3</th>\n",
       "      <td>2019-10-29 04:49:36+00:00</td>\n",
       "      <td>0</td>\n",
       "      <td>12718704</td>\n",
       "      <td>2053013553559896355</td>\n",
       "      <td>None</td>\n",
       "      <td>yokohama</td>\n",
       "      <td>71.95</td>\n",
       "      <td>552114951</td>\n",
       "      <td>95ef058c-3514-4c8d-9342-1c3e8ee206ab</td>\n",
       "    </tr>\n",
       "    <tr>\n",
       "      <th>4</th>\n",
       "      <td>2019-10-29 04:49:36+00:00</td>\n",
       "      <td>0</td>\n",
       "      <td>23301542</td>\n",
       "      <td>2053013561956893455</td>\n",
       "      <td>None</td>\n",
       "      <td>None</td>\n",
       "      <td>30.63</td>\n",
       "      <td>519648035</td>\n",
       "      <td>30fda761-bd5a-4c4f-a3dd-944e474bb054</td>\n",
       "    </tr>\n",
       "  </tbody>\n",
       "</table>\n",
       "</div>"
      ],
      "text/plain": [
       "                 event_time  event_type  product_id          category_id  \\\n",
       "0 2019-10-29 04:49:36+00:00           0     4700478  2053013560899928785   \n",
       "1 2019-10-29 04:49:36+00:00           0     4000189  2053013566142809077   \n",
       "2 2019-10-29 04:49:36+00:00           0     5701166  2053013553970938175   \n",
       "3 2019-10-29 04:49:36+00:00           0    12718704  2053013553559896355   \n",
       "4 2019-10-29 04:49:36+00:00           0    23301542  2053013561956893455   \n",
       "\n",
       "                    category_code     brand   price    user_id  \\\n",
       "0  auto.accessories.videoregister    sho-me  141.91  514013862   \n",
       "1    construction.tools.generator     tefal  167.29  529024659   \n",
       "2         auto.accessories.player      None  144.12  563540902   \n",
       "3                            None  yokohama   71.95  552114951   \n",
       "4                            None      None   30.63  519648035   \n",
       "\n",
       "                           user_session  \n",
       "0  53cfcfc2-671d-4e90-a21a-221d32cab9bc  \n",
       "1  24d5149d-7fca-4bb6-9a01-16c3072eaf15  \n",
       "2  cc9e09e5-775e-4485-9765-c106c8956c7b  \n",
       "3  95ef058c-3514-4c8d-9342-1c3e8ee206ab  \n",
       "4  30fda761-bd5a-4c4f-a3dd-944e474bb054  "
      ]
     },
     "execution_count": 38,
     "metadata": {},
     "output_type": "execute_result"
    }
   ],
   "source": [
    "df_sample_12.head()"
   ]
  },
  {
   "cell_type": "code",
   "execution_count": null,
   "id": "9e78217a",
   "metadata": {},
   "outputs": [],
   "source": []
  },
  {
   "cell_type": "markdown",
   "id": "1e17afa4",
   "metadata": {},
   "source": [
    "## 데이터 분리"
   ]
  },
  {
   "cell_type": "markdown",
   "id": "9edff861",
   "metadata": {},
   "source": [
    "### 이벤트 데이터"
   ]
  },
  {
   "cell_type": "code",
   "execution_count": 47,
   "id": "edb14af6",
   "metadata": {},
   "outputs": [],
   "source": [
    "df_event = df_sample_12[['event_time', 'event_type', 'product_id', 'user_session']].copy(deep=True)"
   ]
  },
  {
   "cell_type": "code",
   "execution_count": 56,
   "id": "4eb20f4e",
   "metadata": {},
   "outputs": [
    {
     "name": "stdout",
     "output_type": "stream",
     "text": [
      "<class 'pandas.core.frame.DataFrame'>\n",
      "RangeIndex: 3537397 entries, 0 to 3537396\n",
      "Data columns (total 4 columns):\n",
      " #   Column        Dtype \n",
      "---  ------        ----- \n",
      " 0   event_time    object\n",
      " 1   event_type    object\n",
      " 2   product_id    int64 \n",
      " 3   user_session  object\n",
      "dtypes: int64(1), object(3)\n",
      "memory usage: 108.0+ MB\n"
     ]
    }
   ],
   "source": [
    "df_event.info()"
   ]
  },
  {
   "cell_type": "markdown",
   "id": "dcd8ecd7",
   "metadata": {},
   "source": [
    "### 유저 데이터"
   ]
  },
  {
   "cell_type": "code",
   "execution_count": 49,
   "id": "06a05d6d",
   "metadata": {},
   "outputs": [],
   "source": [
    "df_user = df_sample_12[['user_session', 'user_id']].drop_duplicates().copy(deep=True)"
   ]
  },
  {
   "cell_type": "code",
   "execution_count": 55,
   "id": "8a3e727d",
   "metadata": {},
   "outputs": [
    {
     "name": "stdout",
     "output_type": "stream",
     "text": [
      "<class 'pandas.core.frame.DataFrame'>\n",
      "Int64Index: 795172 entries, 0 to 3537390\n",
      "Data columns (total 2 columns):\n",
      " #   Column        Non-Null Count   Dtype \n",
      "---  ------        --------------   ----- \n",
      " 0   user_session  795172 non-null  object\n",
      " 1   user_id       795172 non-null  int64 \n",
      "dtypes: int64(1), object(1)\n",
      "memory usage: 18.2+ MB\n"
     ]
    }
   ],
   "source": [
    "df_user.info()"
   ]
  },
  {
   "cell_type": "markdown",
   "id": "56b2d931",
   "metadata": {},
   "source": [
    "### 프로덕트 데이터"
   ]
  },
  {
   "cell_type": "code",
   "execution_count": 50,
   "id": "3d393d74",
   "metadata": {},
   "outputs": [],
   "source": [
    "df_product = df_sample_12[['product_id', 'category_id', 'category_code', 'brand', 'price']].drop_duplicates().copy(deep=True)"
   ]
  },
  {
   "cell_type": "code",
   "execution_count": 57,
   "id": "719780f5",
   "metadata": {},
   "outputs": [
    {
     "name": "stdout",
     "output_type": "stream",
     "text": [
      "<class 'pandas.core.frame.DataFrame'>\n",
      "Int64Index: 124492 entries, 0 to 3537317\n",
      "Data columns (total 5 columns):\n",
      " #   Column         Non-Null Count   Dtype  \n",
      "---  ------         --------------   -----  \n",
      " 0   product_id     124492 non-null  int64  \n",
      " 1   category_id    124492 non-null  int64  \n",
      " 2   category_code  60640 non-null   object \n",
      " 3   brand          95490 non-null   object \n",
      " 4   price          124492 non-null  float64\n",
      "dtypes: float64(1), int64(2), object(2)\n",
      "memory usage: 5.7+ MB\n"
     ]
    }
   ],
   "source": [
    "df_product.info()"
   ]
  },
  {
   "cell_type": "markdown",
   "id": "5becbbef",
   "metadata": {},
   "source": [
    "## 전체 데이터 분리"
   ]
  },
  {
   "cell_type": "code",
   "execution_count": 69,
   "id": "b868425b",
   "metadata": {},
   "outputs": [],
   "source": [
    "df_event, df_user, df_product = pd.DataFrame(), pd.DataFrame(), pd.DataFrame()\n",
    "cols_groups = [\n",
    "    ['event_time', 'event_type', 'product_id', 'user_session'], \n",
    "    ['user_session', 'user_id'], \n",
    "    ['product_id', 'category_id', 'category_code', 'brand', 'price']\n",
    "]\n",
    "\n",
    "for fn in range(1, file_count + 1):\n",
    "    df_sample = pd.read_parquet(f'./data/2019-Oct-{fn}.parquet.gzip')\n",
    "    \n",
    "    if df_event.empty:\n",
    "        df_event = df_sample[cols_groups[0]].copy(deep=True)\n",
    "    else:\n",
    "        df_event = pd.concat([\n",
    "            df_event,\n",
    "            df_sample[cols_groups[0]].copy(deep=True)\n",
    "        ])\n",
    "        \n",
    "    if df_user.empty:\n",
    "        df_user = df_sample[cols_groups[1]].copy(deep=True)\n",
    "    else:\n",
    "        df_user = pd.concat([\n",
    "            df_user,\n",
    "            df_sample[cols_groups[1]].copy(deep=True)\n",
    "        ])\n",
    "    df_user = df_user.drop_duplicates()\n",
    "        \n",
    "    if df_product.empty:\n",
    "        df_product = df_sample[cols_groups[2]].copy(deep=True)\n",
    "    else:\n",
    "        df_product = pd.concat([\n",
    "            df_product,\n",
    "            df_sample[cols_groups[2]].copy(deep=True)\n",
    "        ])\n",
    "    df_product = df_product.drop_duplicates()\n",
    "    \n",
    "    "
   ]
  },
  {
   "cell_type": "code",
   "execution_count": 70,
   "id": "6dc21f50",
   "metadata": {},
   "outputs": [
    {
     "data": {
      "text/html": [
       "<div>\n",
       "<style scoped>\n",
       "    .dataframe tbody tr th:only-of-type {\n",
       "        vertical-align: middle;\n",
       "    }\n",
       "\n",
       "    .dataframe tbody tr th {\n",
       "        vertical-align: top;\n",
       "    }\n",
       "\n",
       "    .dataframe thead th {\n",
       "        text-align: right;\n",
       "    }\n",
       "</style>\n",
       "<table border=\"1\" class=\"dataframe\">\n",
       "  <thead>\n",
       "    <tr style=\"text-align: right;\">\n",
       "      <th></th>\n",
       "      <th>event_time</th>\n",
       "      <th>event_type</th>\n",
       "      <th>product_id</th>\n",
       "      <th>user_session</th>\n",
       "    </tr>\n",
       "  </thead>\n",
       "  <tbody>\n",
       "    <tr>\n",
       "      <th>0</th>\n",
       "      <td>2019-10-01 00:00:00 UTC</td>\n",
       "      <td>view</td>\n",
       "      <td>44600062</td>\n",
       "      <td>72d76fde-8bb3-4e00-8c23-a032dfed738c</td>\n",
       "    </tr>\n",
       "    <tr>\n",
       "      <th>1</th>\n",
       "      <td>2019-10-01 00:00:00 UTC</td>\n",
       "      <td>view</td>\n",
       "      <td>3900821</td>\n",
       "      <td>9333dfbd-b87a-4708-9857-6336556b0fcc</td>\n",
       "    </tr>\n",
       "    <tr>\n",
       "      <th>2</th>\n",
       "      <td>2019-10-01 00:00:01 UTC</td>\n",
       "      <td>view</td>\n",
       "      <td>17200506</td>\n",
       "      <td>566511c2-e2e3-422b-b695-cf8e6e792ca8</td>\n",
       "    </tr>\n",
       "    <tr>\n",
       "      <th>3</th>\n",
       "      <td>2019-10-01 00:00:01 UTC</td>\n",
       "      <td>view</td>\n",
       "      <td>1307067</td>\n",
       "      <td>7c90fc70-0e80-4590-96f3-13c02c18c713</td>\n",
       "    </tr>\n",
       "    <tr>\n",
       "      <th>4</th>\n",
       "      <td>2019-10-01 00:00:04 UTC</td>\n",
       "      <td>view</td>\n",
       "      <td>1004237</td>\n",
       "      <td>c6bd7419-2748-4c56-95b4-8cec9ff8b80d</td>\n",
       "    </tr>\n",
       "    <tr>\n",
       "      <th>...</th>\n",
       "      <td>...</td>\n",
       "      <td>...</td>\n",
       "      <td>...</td>\n",
       "      <td>...</td>\n",
       "    </tr>\n",
       "    <tr>\n",
       "      <th>3537392</th>\n",
       "      <td>2019-10-31 23:59:58 UTC</td>\n",
       "      <td>view</td>\n",
       "      <td>2300275</td>\n",
       "      <td>22c57267-da98-4f28-9a9c-18bb5b385193</td>\n",
       "    </tr>\n",
       "    <tr>\n",
       "      <th>3537393</th>\n",
       "      <td>2019-10-31 23:59:58 UTC</td>\n",
       "      <td>view</td>\n",
       "      <td>10800172</td>\n",
       "      <td>5054190a-46cb-4211-a8f1-16fc1a060ed8</td>\n",
       "    </tr>\n",
       "    <tr>\n",
       "      <th>3537394</th>\n",
       "      <td>2019-10-31 23:59:58 UTC</td>\n",
       "      <td>view</td>\n",
       "      <td>5701038</td>\n",
       "      <td>05b6c62b-992f-4e8e-91f7-961bcb4719cd</td>\n",
       "    </tr>\n",
       "    <tr>\n",
       "      <th>3537395</th>\n",
       "      <td>2019-10-31 23:59:59 UTC</td>\n",
       "      <td>view</td>\n",
       "      <td>21407424</td>\n",
       "      <td>4c14bf2a-2820-4504-929d-046356a5a204</td>\n",
       "    </tr>\n",
       "    <tr>\n",
       "      <th>3537396</th>\n",
       "      <td>2019-10-31 23:59:59 UTC</td>\n",
       "      <td>view</td>\n",
       "      <td>13300120</td>\n",
       "      <td>6e57d2d7-6022-46e6-81d6-fa77f14cefd8</td>\n",
       "    </tr>\n",
       "  </tbody>\n",
       "</table>\n",
       "<p>42448764 rows × 4 columns</p>\n",
       "</div>"
      ],
      "text/plain": [
       "                      event_time event_type  product_id  \\\n",
       "0        2019-10-01 00:00:00 UTC       view    44600062   \n",
       "1        2019-10-01 00:00:00 UTC       view     3900821   \n",
       "2        2019-10-01 00:00:01 UTC       view    17200506   \n",
       "3        2019-10-01 00:00:01 UTC       view     1307067   \n",
       "4        2019-10-01 00:00:04 UTC       view     1004237   \n",
       "...                          ...        ...         ...   \n",
       "3537392  2019-10-31 23:59:58 UTC       view     2300275   \n",
       "3537393  2019-10-31 23:59:58 UTC       view    10800172   \n",
       "3537394  2019-10-31 23:59:58 UTC       view     5701038   \n",
       "3537395  2019-10-31 23:59:59 UTC       view    21407424   \n",
       "3537396  2019-10-31 23:59:59 UTC       view    13300120   \n",
       "\n",
       "                                 user_session  \n",
       "0        72d76fde-8bb3-4e00-8c23-a032dfed738c  \n",
       "1        9333dfbd-b87a-4708-9857-6336556b0fcc  \n",
       "2        566511c2-e2e3-422b-b695-cf8e6e792ca8  \n",
       "3        7c90fc70-0e80-4590-96f3-13c02c18c713  \n",
       "4        c6bd7419-2748-4c56-95b4-8cec9ff8b80d  \n",
       "...                                       ...  \n",
       "3537392  22c57267-da98-4f28-9a9c-18bb5b385193  \n",
       "3537393  5054190a-46cb-4211-a8f1-16fc1a060ed8  \n",
       "3537394  05b6c62b-992f-4e8e-91f7-961bcb4719cd  \n",
       "3537395  4c14bf2a-2820-4504-929d-046356a5a204  \n",
       "3537396  6e57d2d7-6022-46e6-81d6-fa77f14cefd8  \n",
       "\n",
       "[42448764 rows x 4 columns]"
      ]
     },
     "execution_count": 70,
     "metadata": {},
     "output_type": "execute_result"
    }
   ],
   "source": [
    "df_event"
   ]
  },
  {
   "cell_type": "code",
   "execution_count": 71,
   "id": "18fb551d",
   "metadata": {},
   "outputs": [
    {
     "data": {
      "text/html": [
       "<div>\n",
       "<style scoped>\n",
       "    .dataframe tbody tr th:only-of-type {\n",
       "        vertical-align: middle;\n",
       "    }\n",
       "\n",
       "    .dataframe tbody tr th {\n",
       "        vertical-align: top;\n",
       "    }\n",
       "\n",
       "    .dataframe thead th {\n",
       "        text-align: right;\n",
       "    }\n",
       "</style>\n",
       "<table border=\"1\" class=\"dataframe\">\n",
       "  <thead>\n",
       "    <tr style=\"text-align: right;\">\n",
       "      <th></th>\n",
       "      <th>user_session</th>\n",
       "      <th>user_id</th>\n",
       "    </tr>\n",
       "  </thead>\n",
       "  <tbody>\n",
       "    <tr>\n",
       "      <th>0</th>\n",
       "      <td>72d76fde-8bb3-4e00-8c23-a032dfed738c</td>\n",
       "      <td>541312140</td>\n",
       "    </tr>\n",
       "    <tr>\n",
       "      <th>1</th>\n",
       "      <td>9333dfbd-b87a-4708-9857-6336556b0fcc</td>\n",
       "      <td>554748717</td>\n",
       "    </tr>\n",
       "    <tr>\n",
       "      <th>2</th>\n",
       "      <td>566511c2-e2e3-422b-b695-cf8e6e792ca8</td>\n",
       "      <td>519107250</td>\n",
       "    </tr>\n",
       "    <tr>\n",
       "      <th>3</th>\n",
       "      <td>7c90fc70-0e80-4590-96f3-13c02c18c713</td>\n",
       "      <td>550050854</td>\n",
       "    </tr>\n",
       "    <tr>\n",
       "      <th>4</th>\n",
       "      <td>c6bd7419-2748-4c56-95b4-8cec9ff8b80d</td>\n",
       "      <td>535871217</td>\n",
       "    </tr>\n",
       "    <tr>\n",
       "      <th>...</th>\n",
       "      <td>...</td>\n",
       "      <td>...</td>\n",
       "    </tr>\n",
       "    <tr>\n",
       "      <th>3537356</th>\n",
       "      <td>341a87d8-8cf4-4b4a-8b7d-749380697af1</td>\n",
       "      <td>566280860</td>\n",
       "    </tr>\n",
       "    <tr>\n",
       "      <th>3537365</th>\n",
       "      <td>b1df0fce-6e03-47cc-b777-782b77b1b100</td>\n",
       "      <td>532572658</td>\n",
       "    </tr>\n",
       "    <tr>\n",
       "      <th>3537384</th>\n",
       "      <td>2169c430-9acc-4db8-8061-ac70ff0c66ea</td>\n",
       "      <td>557202408</td>\n",
       "    </tr>\n",
       "    <tr>\n",
       "      <th>3537388</th>\n",
       "      <td>fb46b2fb-493b-477c-8d18-ea1c24c04020</td>\n",
       "      <td>544578298</td>\n",
       "    </tr>\n",
       "    <tr>\n",
       "      <th>3537390</th>\n",
       "      <td>6764041a-9285-4869-8a32-a79adf31d212</td>\n",
       "      <td>518956209</td>\n",
       "    </tr>\n",
       "  </tbody>\n",
       "</table>\n",
       "<p>9244772 rows × 2 columns</p>\n",
       "</div>"
      ],
      "text/plain": [
       "                                 user_session    user_id\n",
       "0        72d76fde-8bb3-4e00-8c23-a032dfed738c  541312140\n",
       "1        9333dfbd-b87a-4708-9857-6336556b0fcc  554748717\n",
       "2        566511c2-e2e3-422b-b695-cf8e6e792ca8  519107250\n",
       "3        7c90fc70-0e80-4590-96f3-13c02c18c713  550050854\n",
       "4        c6bd7419-2748-4c56-95b4-8cec9ff8b80d  535871217\n",
       "...                                       ...        ...\n",
       "3537356  341a87d8-8cf4-4b4a-8b7d-749380697af1  566280860\n",
       "3537365  b1df0fce-6e03-47cc-b777-782b77b1b100  532572658\n",
       "3537384  2169c430-9acc-4db8-8061-ac70ff0c66ea  557202408\n",
       "3537388  fb46b2fb-493b-477c-8d18-ea1c24c04020  544578298\n",
       "3537390  6764041a-9285-4869-8a32-a79adf31d212  518956209\n",
       "\n",
       "[9244772 rows x 2 columns]"
      ]
     },
     "execution_count": 71,
     "metadata": {},
     "output_type": "execute_result"
    }
   ],
   "source": [
    "df_user"
   ]
  },
  {
   "cell_type": "code",
   "execution_count": 72,
   "id": "9e62701d",
   "metadata": {},
   "outputs": [
    {
     "data": {
      "text/html": [
       "<div>\n",
       "<style scoped>\n",
       "    .dataframe tbody tr th:only-of-type {\n",
       "        vertical-align: middle;\n",
       "    }\n",
       "\n",
       "    .dataframe tbody tr th {\n",
       "        vertical-align: top;\n",
       "    }\n",
       "\n",
       "    .dataframe thead th {\n",
       "        text-align: right;\n",
       "    }\n",
       "</style>\n",
       "<table border=\"1\" class=\"dataframe\">\n",
       "  <thead>\n",
       "    <tr style=\"text-align: right;\">\n",
       "      <th></th>\n",
       "      <th>product_id</th>\n",
       "      <th>category_id</th>\n",
       "      <th>category_code</th>\n",
       "      <th>brand</th>\n",
       "      <th>price</th>\n",
       "    </tr>\n",
       "  </thead>\n",
       "  <tbody>\n",
       "    <tr>\n",
       "      <th>0</th>\n",
       "      <td>44600062</td>\n",
       "      <td>2103807459595387724</td>\n",
       "      <td>None</td>\n",
       "      <td>shiseido</td>\n",
       "      <td>35.79</td>\n",
       "    </tr>\n",
       "    <tr>\n",
       "      <th>1</th>\n",
       "      <td>3900821</td>\n",
       "      <td>2053013552326770905</td>\n",
       "      <td>appliances.environment.water_heater</td>\n",
       "      <td>aqua</td>\n",
       "      <td>33.20</td>\n",
       "    </tr>\n",
       "    <tr>\n",
       "      <th>2</th>\n",
       "      <td>17200506</td>\n",
       "      <td>2053013559792632471</td>\n",
       "      <td>furniture.living_room.sofa</td>\n",
       "      <td>None</td>\n",
       "      <td>543.10</td>\n",
       "    </tr>\n",
       "    <tr>\n",
       "      <th>3</th>\n",
       "      <td>1307067</td>\n",
       "      <td>2053013558920217191</td>\n",
       "      <td>computers.notebook</td>\n",
       "      <td>lenovo</td>\n",
       "      <td>251.74</td>\n",
       "    </tr>\n",
       "    <tr>\n",
       "      <th>4</th>\n",
       "      <td>1004237</td>\n",
       "      <td>2053013555631882655</td>\n",
       "      <td>electronics.smartphone</td>\n",
       "      <td>apple</td>\n",
       "      <td>1081.98</td>\n",
       "    </tr>\n",
       "    <tr>\n",
       "      <th>...</th>\n",
       "      <td>...</td>\n",
       "      <td>...</td>\n",
       "      <td>...</td>\n",
       "      <td>...</td>\n",
       "      <td>...</td>\n",
       "    </tr>\n",
       "    <tr>\n",
       "      <th>3536299</th>\n",
       "      <td>19000980</td>\n",
       "      <td>2053013557225718275</td>\n",
       "      <td>None</td>\n",
       "      <td>None</td>\n",
       "      <td>67.12</td>\n",
       "    </tr>\n",
       "    <tr>\n",
       "      <th>3536447</th>\n",
       "      <td>19001117</td>\n",
       "      <td>2053013557225718275</td>\n",
       "      <td>None</td>\n",
       "      <td>None</td>\n",
       "      <td>79.30</td>\n",
       "    </tr>\n",
       "    <tr>\n",
       "      <th>3536509</th>\n",
       "      <td>47000083</td>\n",
       "      <td>2110937189394154243</td>\n",
       "      <td>None</td>\n",
       "      <td>canon</td>\n",
       "      <td>1667.47</td>\n",
       "    </tr>\n",
       "    <tr>\n",
       "      <th>3536724</th>\n",
       "      <td>1701321</td>\n",
       "      <td>2053013553031414015</td>\n",
       "      <td>computers.peripherals.monitor</td>\n",
       "      <td>acer</td>\n",
       "      <td>123.04</td>\n",
       "    </tr>\n",
       "    <tr>\n",
       "      <th>3537027</th>\n",
       "      <td>13100770</td>\n",
       "      <td>2053013553526341921</td>\n",
       "      <td>None</td>\n",
       "      <td>rial</td>\n",
       "      <td>579.56</td>\n",
       "    </tr>\n",
       "  </tbody>\n",
       "</table>\n",
       "<p>371536 rows × 5 columns</p>\n",
       "</div>"
      ],
      "text/plain": [
       "         product_id          category_id                        category_code  \\\n",
       "0          44600062  2103807459595387724                                 None   \n",
       "1           3900821  2053013552326770905  appliances.environment.water_heater   \n",
       "2          17200506  2053013559792632471           furniture.living_room.sofa   \n",
       "3           1307067  2053013558920217191                   computers.notebook   \n",
       "4           1004237  2053013555631882655               electronics.smartphone   \n",
       "...             ...                  ...                                  ...   \n",
       "3536299    19000980  2053013557225718275                                 None   \n",
       "3536447    19001117  2053013557225718275                                 None   \n",
       "3536509    47000083  2110937189394154243                                 None   \n",
       "3536724     1701321  2053013553031414015        computers.peripherals.monitor   \n",
       "3537027    13100770  2053013553526341921                                 None   \n",
       "\n",
       "            brand    price  \n",
       "0        shiseido    35.79  \n",
       "1            aqua    33.20  \n",
       "2            None   543.10  \n",
       "3          lenovo   251.74  \n",
       "4           apple  1081.98  \n",
       "...           ...      ...  \n",
       "3536299      None    67.12  \n",
       "3536447      None    79.30  \n",
       "3536509     canon  1667.47  \n",
       "3536724      acer   123.04  \n",
       "3537027      rial   579.56  \n",
       "\n",
       "[371536 rows x 5 columns]"
      ]
     },
     "execution_count": 72,
     "metadata": {},
     "output_type": "execute_result"
    }
   ],
   "source": [
    "df_product"
   ]
  },
  {
   "cell_type": "markdown",
   "id": "bb11aa7b",
   "metadata": {},
   "source": [
    "## 전체 데이터 다운캐스트"
   ]
  },
  {
   "cell_type": "markdown",
   "id": "2911f662",
   "metadata": {},
   "source": [
    "### 이벤트 데이터 다운캐스트"
   ]
  },
  {
   "cell_type": "code",
   "execution_count": 73,
   "id": "ea47e56e",
   "metadata": {},
   "outputs": [
    {
     "name": "stdout",
     "output_type": "stream",
     "text": [
      "<class 'pandas.core.frame.DataFrame'>\n",
      "Int64Index: 42448764 entries, 0 to 3537396\n",
      "Data columns (total 4 columns):\n",
      " #   Column        Dtype \n",
      "---  ------        ----- \n",
      " 0   event_time    object\n",
      " 1   event_type    object\n",
      " 2   product_id    int64 \n",
      " 3   user_session  object\n",
      "dtypes: int64(1), object(3)\n",
      "memory usage: 1.6+ GB\n"
     ]
    }
   ],
   "source": [
    "df_event.info()"
   ]
  },
  {
   "cell_type": "code",
   "execution_count": 76,
   "id": "d7bcd82b",
   "metadata": {},
   "outputs": [],
   "source": [
    "df_event['event_time'] = pd.to_datetime(df_event['event_time'])"
   ]
  },
  {
   "cell_type": "code",
   "execution_count": 77,
   "id": "f91b4a85",
   "metadata": {},
   "outputs": [],
   "source": [
    "# view: 0, cart: 1, remove_from_cart: 2, purchase: 3\n",
    "df_event.loc[df_event['event_type'] == 'view', 'event_type'] = 0\n",
    "df_event.loc[df_event['event_type'] == 'cart', 'event_type'] = 1\n",
    "df_event.loc[df_event['event_type'] == 'remove_from_cart', 'event_type'] = 2\n",
    "df_event.loc[df_event['event_type'] == 'purchase', 'event_type'] = 3\n",
    "df_event['event_type'] = pd.to_numeric(df_event['event_type'], downcast='unsigned')"
   ]
  },
  {
   "cell_type": "code",
   "execution_count": 78,
   "id": "18632497",
   "metadata": {},
   "outputs": [],
   "source": [
    "df_event['product_id'] = pd.to_numeric(df_event['product_id'], downcast='unsigned')"
   ]
  },
  {
   "cell_type": "code",
   "execution_count": 79,
   "id": "a8e4f926",
   "metadata": {},
   "outputs": [
    {
     "name": "stdout",
     "output_type": "stream",
     "text": [
      "<class 'pandas.core.frame.DataFrame'>\n",
      "Int64Index: 42448764 entries, 0 to 3537396\n",
      "Data columns (total 4 columns):\n",
      " #   Column        Dtype              \n",
      "---  ------        -----              \n",
      " 0   event_time    datetime64[ns, UTC]\n",
      " 1   event_type    uint8              \n",
      " 2   product_id    uint32             \n",
      " 3   user_session  object             \n",
      "dtypes: datetime64[ns, UTC](1), object(1), uint32(1), uint8(1)\n",
      "memory usage: 1.1+ GB\n"
     ]
    }
   ],
   "source": [
    "df_event.info()"
   ]
  },
  {
   "cell_type": "code",
   "execution_count": 85,
   "id": "94488bba",
   "metadata": {},
   "outputs": [
    {
     "data": {
      "text/html": [
       "<div>\n",
       "<style scoped>\n",
       "    .dataframe tbody tr th:only-of-type {\n",
       "        vertical-align: middle;\n",
       "    }\n",
       "\n",
       "    .dataframe tbody tr th {\n",
       "        vertical-align: top;\n",
       "    }\n",
       "\n",
       "    .dataframe thead th {\n",
       "        text-align: right;\n",
       "    }\n",
       "</style>\n",
       "<table border=\"1\" class=\"dataframe\">\n",
       "  <thead>\n",
       "    <tr style=\"text-align: right;\">\n",
       "      <th></th>\n",
       "      <th>event_time</th>\n",
       "      <th>event_type</th>\n",
       "      <th>product_id</th>\n",
       "      <th>user_session</th>\n",
       "    </tr>\n",
       "  </thead>\n",
       "  <tbody>\n",
       "    <tr>\n",
       "      <th>0</th>\n",
       "      <td>2019-10-01 00:00:00+00:00</td>\n",
       "      <td>0</td>\n",
       "      <td>44600062</td>\n",
       "      <td>72d76fde-8bb3-4e00-8c23-a032dfed738c</td>\n",
       "    </tr>\n",
       "    <tr>\n",
       "      <th>1</th>\n",
       "      <td>2019-10-01 00:00:00+00:00</td>\n",
       "      <td>0</td>\n",
       "      <td>3900821</td>\n",
       "      <td>9333dfbd-b87a-4708-9857-6336556b0fcc</td>\n",
       "    </tr>\n",
       "    <tr>\n",
       "      <th>2</th>\n",
       "      <td>2019-10-01 00:00:01+00:00</td>\n",
       "      <td>0</td>\n",
       "      <td>17200506</td>\n",
       "      <td>566511c2-e2e3-422b-b695-cf8e6e792ca8</td>\n",
       "    </tr>\n",
       "    <tr>\n",
       "      <th>3</th>\n",
       "      <td>2019-10-01 00:00:01+00:00</td>\n",
       "      <td>0</td>\n",
       "      <td>1307067</td>\n",
       "      <td>7c90fc70-0e80-4590-96f3-13c02c18c713</td>\n",
       "    </tr>\n",
       "    <tr>\n",
       "      <th>4</th>\n",
       "      <td>2019-10-01 00:00:04+00:00</td>\n",
       "      <td>0</td>\n",
       "      <td>1004237</td>\n",
       "      <td>c6bd7419-2748-4c56-95b4-8cec9ff8b80d</td>\n",
       "    </tr>\n",
       "  </tbody>\n",
       "</table>\n",
       "</div>"
      ],
      "text/plain": [
       "                 event_time  event_type  product_id  \\\n",
       "0 2019-10-01 00:00:00+00:00           0    44600062   \n",
       "1 2019-10-01 00:00:00+00:00           0     3900821   \n",
       "2 2019-10-01 00:00:01+00:00           0    17200506   \n",
       "3 2019-10-01 00:00:01+00:00           0     1307067   \n",
       "4 2019-10-01 00:00:04+00:00           0     1004237   \n",
       "\n",
       "                           user_session  \n",
       "0  72d76fde-8bb3-4e00-8c23-a032dfed738c  \n",
       "1  9333dfbd-b87a-4708-9857-6336556b0fcc  \n",
       "2  566511c2-e2e3-422b-b695-cf8e6e792ca8  \n",
       "3  7c90fc70-0e80-4590-96f3-13c02c18c713  \n",
       "4  c6bd7419-2748-4c56-95b4-8cec9ff8b80d  "
      ]
     },
     "execution_count": 85,
     "metadata": {},
     "output_type": "execute_result"
    }
   ],
   "source": [
    "df_event.head()"
   ]
  },
  {
   "cell_type": "code",
   "execution_count": 91,
   "id": "8c91a46b",
   "metadata": {},
   "outputs": [],
   "source": [
    "df_event.to_parquet(\n",
    "    f'./data/2019-Oct-event.parquet.gzip', \n",
    "    compression='gzip'\n",
    ")"
   ]
  },
  {
   "cell_type": "markdown",
   "id": "568c8872",
   "metadata": {},
   "source": [
    "### 유저 데이터 다운캐스트"
   ]
  },
  {
   "cell_type": "code",
   "execution_count": 74,
   "id": "4ccf9da7",
   "metadata": {},
   "outputs": [
    {
     "name": "stdout",
     "output_type": "stream",
     "text": [
      "<class 'pandas.core.frame.DataFrame'>\n",
      "Int64Index: 9244772 entries, 0 to 3537390\n",
      "Data columns (total 2 columns):\n",
      " #   Column        Dtype \n",
      "---  ------        ----- \n",
      " 0   user_session  object\n",
      " 1   user_id       int64 \n",
      "dtypes: int64(1), object(1)\n",
      "memory usage: 211.6+ MB\n"
     ]
    }
   ],
   "source": [
    "df_user.info()"
   ]
  },
  {
   "cell_type": "code",
   "execution_count": 82,
   "id": "fca23412",
   "metadata": {},
   "outputs": [],
   "source": [
    "df_user['user_id'] = pd.to_numeric(df_user['user_id'], downcast='unsigned')\n",
    "df_user = df_user.set_index('user_session')"
   ]
  },
  {
   "cell_type": "code",
   "execution_count": 83,
   "id": "c01bb3b4",
   "metadata": {},
   "outputs": [
    {
     "name": "stdout",
     "output_type": "stream",
     "text": [
      "<class 'pandas.core.frame.DataFrame'>\n",
      "Index: 9244772 entries, 72d76fde-8bb3-4e00-8c23-a032dfed738c to 6764041a-9285-4869-8a32-a79adf31d212\n",
      "Data columns (total 1 columns):\n",
      " #   Column   Dtype \n",
      "---  ------   ----- \n",
      " 0   user_id  uint32\n",
      "dtypes: uint32(1)\n",
      "memory usage: 105.8+ MB\n"
     ]
    }
   ],
   "source": [
    "df_user.info()"
   ]
  },
  {
   "cell_type": "code",
   "execution_count": 84,
   "id": "393444df",
   "metadata": {},
   "outputs": [
    {
     "data": {
      "text/html": [
       "<div>\n",
       "<style scoped>\n",
       "    .dataframe tbody tr th:only-of-type {\n",
       "        vertical-align: middle;\n",
       "    }\n",
       "\n",
       "    .dataframe tbody tr th {\n",
       "        vertical-align: top;\n",
       "    }\n",
       "\n",
       "    .dataframe thead th {\n",
       "        text-align: right;\n",
       "    }\n",
       "</style>\n",
       "<table border=\"1\" class=\"dataframe\">\n",
       "  <thead>\n",
       "    <tr style=\"text-align: right;\">\n",
       "      <th></th>\n",
       "      <th>user_id</th>\n",
       "    </tr>\n",
       "    <tr>\n",
       "      <th>user_session</th>\n",
       "      <th></th>\n",
       "    </tr>\n",
       "  </thead>\n",
       "  <tbody>\n",
       "    <tr>\n",
       "      <th>72d76fde-8bb3-4e00-8c23-a032dfed738c</th>\n",
       "      <td>541312140</td>\n",
       "    </tr>\n",
       "    <tr>\n",
       "      <th>9333dfbd-b87a-4708-9857-6336556b0fcc</th>\n",
       "      <td>554748717</td>\n",
       "    </tr>\n",
       "    <tr>\n",
       "      <th>566511c2-e2e3-422b-b695-cf8e6e792ca8</th>\n",
       "      <td>519107250</td>\n",
       "    </tr>\n",
       "    <tr>\n",
       "      <th>7c90fc70-0e80-4590-96f3-13c02c18c713</th>\n",
       "      <td>550050854</td>\n",
       "    </tr>\n",
       "    <tr>\n",
       "      <th>c6bd7419-2748-4c56-95b4-8cec9ff8b80d</th>\n",
       "      <td>535871217</td>\n",
       "    </tr>\n",
       "  </tbody>\n",
       "</table>\n",
       "</div>"
      ],
      "text/plain": [
       "                                        user_id\n",
       "user_session                                   \n",
       "72d76fde-8bb3-4e00-8c23-a032dfed738c  541312140\n",
       "9333dfbd-b87a-4708-9857-6336556b0fcc  554748717\n",
       "566511c2-e2e3-422b-b695-cf8e6e792ca8  519107250\n",
       "7c90fc70-0e80-4590-96f3-13c02c18c713  550050854\n",
       "c6bd7419-2748-4c56-95b4-8cec9ff8b80d  535871217"
      ]
     },
     "execution_count": 84,
     "metadata": {},
     "output_type": "execute_result"
    }
   ],
   "source": [
    "df_user.head()"
   ]
  },
  {
   "cell_type": "code",
   "execution_count": 92,
   "id": "b111f480",
   "metadata": {},
   "outputs": [],
   "source": [
    "df_user.to_parquet(\n",
    "    f'./data/2019-Oct-user.parquet.gzip', \n",
    "    compression='gzip'\n",
    ")"
   ]
  },
  {
   "cell_type": "markdown",
   "id": "d801b681",
   "metadata": {},
   "source": [
    "### 프로덕트 데이터 다운캐스트"
   ]
  },
  {
   "cell_type": "code",
   "execution_count": 75,
   "id": "822ef1b6",
   "metadata": {},
   "outputs": [
    {
     "name": "stdout",
     "output_type": "stream",
     "text": [
      "<class 'pandas.core.frame.DataFrame'>\n",
      "Int64Index: 371536 entries, 0 to 3537027\n",
      "Data columns (total 5 columns):\n",
      " #   Column         Non-Null Count   Dtype  \n",
      "---  ------         --------------   -----  \n",
      " 0   product_id     371536 non-null  int64  \n",
      " 1   category_id    371536 non-null  int64  \n",
      " 2   category_code  187788 non-null  object \n",
      " 3   brand          290716 non-null  object \n",
      " 4   price          371536 non-null  float64\n",
      "dtypes: float64(1), int64(2), object(2)\n",
      "memory usage: 17.0+ MB\n"
     ]
    }
   ],
   "source": [
    "df_product.info()"
   ]
  },
  {
   "cell_type": "code",
   "execution_count": 95,
   "id": "249644e9",
   "metadata": {},
   "outputs": [],
   "source": [
    "df_product['product_id'] = pd.to_numeric(df_product['product_id'], downcast='unsigned')"
   ]
  },
  {
   "cell_type": "code",
   "execution_count": 96,
   "id": "6acb692b",
   "metadata": {},
   "outputs": [],
   "source": [
    "df_product['category_id'] = pd.to_numeric(df_product['category_id'], downcast='unsigned')"
   ]
  },
  {
   "cell_type": "code",
   "execution_count": 108,
   "id": "7be736a1",
   "metadata": {},
   "outputs": [],
   "source": [
    "df_product['price'] = pd.to_numeric(df_product['price'], downcast='float')"
   ]
  },
  {
   "cell_type": "code",
   "execution_count": 99,
   "id": "ec02e4d9",
   "metadata": {},
   "outputs": [],
   "source": [
    "df_product = df_product.set_index('product_id')"
   ]
  },
  {
   "cell_type": "code",
   "execution_count": 109,
   "id": "4356f347",
   "metadata": {},
   "outputs": [
    {
     "name": "stdout",
     "output_type": "stream",
     "text": [
      "<class 'pandas.core.frame.DataFrame'>\n",
      "UInt64Index: 371536 entries, 44600062 to 13100770\n",
      "Data columns (total 4 columns):\n",
      " #   Column         Non-Null Count   Dtype  \n",
      "---  ------         --------------   -----  \n",
      " 0   category_id    371536 non-null  uint64 \n",
      " 1   category_code  187788 non-null  object \n",
      " 2   brand          290716 non-null  object \n",
      " 3   price          371536 non-null  float32\n",
      "dtypes: float32(1), object(2), uint64(1)\n",
      "memory usage: 12.8+ MB\n"
     ]
    }
   ],
   "source": [
    "df_product.info()"
   ]
  },
  {
   "cell_type": "code",
   "execution_count": 110,
   "id": "ab9c49a8",
   "metadata": {},
   "outputs": [
    {
     "data": {
      "text/html": [
       "<div>\n",
       "<style scoped>\n",
       "    .dataframe tbody tr th:only-of-type {\n",
       "        vertical-align: middle;\n",
       "    }\n",
       "\n",
       "    .dataframe tbody tr th {\n",
       "        vertical-align: top;\n",
       "    }\n",
       "\n",
       "    .dataframe thead th {\n",
       "        text-align: right;\n",
       "    }\n",
       "</style>\n",
       "<table border=\"1\" class=\"dataframe\">\n",
       "  <thead>\n",
       "    <tr style=\"text-align: right;\">\n",
       "      <th></th>\n",
       "      <th>category_id</th>\n",
       "      <th>category_code</th>\n",
       "      <th>brand</th>\n",
       "      <th>price</th>\n",
       "    </tr>\n",
       "    <tr>\n",
       "      <th>product_id</th>\n",
       "      <th></th>\n",
       "      <th></th>\n",
       "      <th></th>\n",
       "      <th></th>\n",
       "    </tr>\n",
       "  </thead>\n",
       "  <tbody>\n",
       "    <tr>\n",
       "      <th>44600062</th>\n",
       "      <td>2103807459595387724</td>\n",
       "      <td>None</td>\n",
       "      <td>shiseido</td>\n",
       "      <td>35.790001</td>\n",
       "    </tr>\n",
       "    <tr>\n",
       "      <th>3900821</th>\n",
       "      <td>2053013552326770905</td>\n",
       "      <td>appliances.environment.water_heater</td>\n",
       "      <td>aqua</td>\n",
       "      <td>33.200001</td>\n",
       "    </tr>\n",
       "    <tr>\n",
       "      <th>17200506</th>\n",
       "      <td>2053013559792632471</td>\n",
       "      <td>furniture.living_room.sofa</td>\n",
       "      <td>None</td>\n",
       "      <td>543.099976</td>\n",
       "    </tr>\n",
       "    <tr>\n",
       "      <th>1307067</th>\n",
       "      <td>2053013558920217191</td>\n",
       "      <td>computers.notebook</td>\n",
       "      <td>lenovo</td>\n",
       "      <td>251.740005</td>\n",
       "    </tr>\n",
       "    <tr>\n",
       "      <th>1004237</th>\n",
       "      <td>2053013555631882655</td>\n",
       "      <td>electronics.smartphone</td>\n",
       "      <td>apple</td>\n",
       "      <td>1081.979980</td>\n",
       "    </tr>\n",
       "  </tbody>\n",
       "</table>\n",
       "</div>"
      ],
      "text/plain": [
       "                    category_id                        category_code  \\\n",
       "product_id                                                             \n",
       "44600062    2103807459595387724                                 None   \n",
       "3900821     2053013552326770905  appliances.environment.water_heater   \n",
       "17200506    2053013559792632471           furniture.living_room.sofa   \n",
       "1307067     2053013558920217191                   computers.notebook   \n",
       "1004237     2053013555631882655               electronics.smartphone   \n",
       "\n",
       "               brand        price  \n",
       "product_id                         \n",
       "44600062    shiseido    35.790001  \n",
       "3900821         aqua    33.200001  \n",
       "17200506        None   543.099976  \n",
       "1307067       lenovo   251.740005  \n",
       "1004237        apple  1081.979980  "
      ]
     },
     "execution_count": 110,
     "metadata": {},
     "output_type": "execute_result"
    }
   ],
   "source": [
    "df_product.head()"
   ]
  },
  {
   "cell_type": "code",
   "execution_count": 111,
   "id": "5f0d9a1a",
   "metadata": {},
   "outputs": [],
   "source": [
    "df_product.to_parquet(\n",
    "    f'./data/2019-Oct-product.parquet.gzip', \n",
    "    compression='gzip'\n",
    ")"
   ]
  },
  {
   "cell_type": "code",
   "execution_count": 86,
   "id": "f0a47fbe",
   "metadata": {},
   "outputs": [
    {
     "data": {
      "text/plain": [
       "(624, 126, 3444)"
      ]
     },
     "execution_count": 86,
     "metadata": {},
     "output_type": "execute_result"
    }
   ],
   "source": [
    "df_product['category_id'].nunique(), df_product['category_code'].nunique(), df_product['brand'].nunique()"
   ]
  },
  {
   "cell_type": "code",
   "execution_count": 117,
   "id": "1e4ec0bf",
   "metadata": {},
   "outputs": [],
   "source": [
    "df = df_product[['category_id', 'category_code']].drop_duplicates().sort_values('category_id').copy(deep=True)"
   ]
  },
  {
   "cell_type": "code",
   "execution_count": 118,
   "id": "cff28e83",
   "metadata": {},
   "outputs": [
    {
     "data": {
      "text/html": [
       "<div>\n",
       "<style scoped>\n",
       "    .dataframe tbody tr th:only-of-type {\n",
       "        vertical-align: middle;\n",
       "    }\n",
       "\n",
       "    .dataframe tbody tr th {\n",
       "        vertical-align: top;\n",
       "    }\n",
       "\n",
       "    .dataframe thead th {\n",
       "        text-align: right;\n",
       "    }\n",
       "</style>\n",
       "<table border=\"1\" class=\"dataframe\">\n",
       "  <thead>\n",
       "    <tr style=\"text-align: right;\">\n",
       "      <th></th>\n",
       "      <th>category_id</th>\n",
       "      <th>category_code</th>\n",
       "    </tr>\n",
       "    <tr>\n",
       "      <th>product_id</th>\n",
       "      <th></th>\n",
       "      <th></th>\n",
       "    </tr>\n",
       "  </thead>\n",
       "  <tbody>\n",
       "    <tr>\n",
       "      <th>8600174</th>\n",
       "      <td>2053013552226107603</td>\n",
       "      <td>appliances.environment.fan</td>\n",
       "    </tr>\n",
       "    <tr>\n",
       "      <th>8500097</th>\n",
       "      <td>2053013552259662037</td>\n",
       "      <td>None</td>\n",
       "    </tr>\n",
       "    <tr>\n",
       "      <th>6200260</th>\n",
       "      <td>2053013552293216471</td>\n",
       "      <td>appliances.environment.air_heater</td>\n",
       "    </tr>\n",
       "    <tr>\n",
       "      <th>3900821</th>\n",
       "      <td>2053013552326770905</td>\n",
       "      <td>appliances.environment.water_heater</td>\n",
       "    </tr>\n",
       "    <tr>\n",
       "      <th>4200541</th>\n",
       "      <td>2053013552351936731</td>\n",
       "      <td>appliances.environment.air_conditioner</td>\n",
       "    </tr>\n",
       "    <tr>\n",
       "      <th>...</th>\n",
       "      <td>...</td>\n",
       "      <td>...</td>\n",
       "    </tr>\n",
       "    <tr>\n",
       "      <th>20400129</th>\n",
       "      <td>2172371118332051820</td>\n",
       "      <td>apparel.shoes</td>\n",
       "    </tr>\n",
       "    <tr>\n",
       "      <th>20700006</th>\n",
       "      <td>2172371122509578610</td>\n",
       "      <td>apparel.shoes</td>\n",
       "    </tr>\n",
       "    <tr>\n",
       "      <th>1201496</th>\n",
       "      <td>2172371436436455782</td>\n",
       "      <td>electronics.tablet</td>\n",
       "    </tr>\n",
       "    <tr>\n",
       "      <th>57300037</th>\n",
       "      <td>2173216765583032544</td>\n",
       "      <td>apparel.shirt</td>\n",
       "    </tr>\n",
       "    <tr>\n",
       "      <th>50700006</th>\n",
       "      <td>2175419595093967522</td>\n",
       "      <td>None</td>\n",
       "    </tr>\n",
       "  </tbody>\n",
       "</table>\n",
       "<p>624 rows × 2 columns</p>\n",
       "</div>"
      ],
      "text/plain": [
       "                    category_id                           category_code\n",
       "product_id                                                             \n",
       "8600174     2053013552226107603              appliances.environment.fan\n",
       "8500097     2053013552259662037                                    None\n",
       "6200260     2053013552293216471       appliances.environment.air_heater\n",
       "3900821     2053013552326770905     appliances.environment.water_heater\n",
       "4200541     2053013552351936731  appliances.environment.air_conditioner\n",
       "...                         ...                                     ...\n",
       "20400129    2172371118332051820                           apparel.shoes\n",
       "20700006    2172371122509578610                           apparel.shoes\n",
       "1201496     2172371436436455782                      electronics.tablet\n",
       "57300037    2173216765583032544                           apparel.shirt\n",
       "50700006    2175419595093967522                                    None\n",
       "\n",
       "[624 rows x 2 columns]"
      ]
     },
     "execution_count": 118,
     "metadata": {},
     "output_type": "execute_result"
    }
   ],
   "source": [
    "df"
   ]
  },
  {
   "cell_type": "code",
   "execution_count": 121,
   "id": "10f95733",
   "metadata": {},
   "outputs": [],
   "source": [
    "df = df.set_index('category_id')"
   ]
  },
  {
   "cell_type": "code",
   "execution_count": 122,
   "id": "ea896998",
   "metadata": {},
   "outputs": [
    {
     "data": {
      "text/html": [
       "<div>\n",
       "<style scoped>\n",
       "    .dataframe tbody tr th:only-of-type {\n",
       "        vertical-align: middle;\n",
       "    }\n",
       "\n",
       "    .dataframe tbody tr th {\n",
       "        vertical-align: top;\n",
       "    }\n",
       "\n",
       "    .dataframe thead th {\n",
       "        text-align: right;\n",
       "    }\n",
       "</style>\n",
       "<table border=\"1\" class=\"dataframe\">\n",
       "  <thead>\n",
       "    <tr style=\"text-align: right;\">\n",
       "      <th></th>\n",
       "      <th>category_code</th>\n",
       "    </tr>\n",
       "    <tr>\n",
       "      <th>category_id</th>\n",
       "      <th></th>\n",
       "    </tr>\n",
       "  </thead>\n",
       "  <tbody>\n",
       "    <tr>\n",
       "      <th>2053013552226107603</th>\n",
       "      <td>appliances.environment.fan</td>\n",
       "    </tr>\n",
       "    <tr>\n",
       "      <th>2053013552259662037</th>\n",
       "      <td>None</td>\n",
       "    </tr>\n",
       "    <tr>\n",
       "      <th>2053013552293216471</th>\n",
       "      <td>appliances.environment.air_heater</td>\n",
       "    </tr>\n",
       "    <tr>\n",
       "      <th>2053013552326770905</th>\n",
       "      <td>appliances.environment.water_heater</td>\n",
       "    </tr>\n",
       "    <tr>\n",
       "      <th>2053013552351936731</th>\n",
       "      <td>appliances.environment.air_conditioner</td>\n",
       "    </tr>\n",
       "    <tr>\n",
       "      <th>...</th>\n",
       "      <td>...</td>\n",
       "    </tr>\n",
       "    <tr>\n",
       "      <th>2172371118332051820</th>\n",
       "      <td>apparel.shoes</td>\n",
       "    </tr>\n",
       "    <tr>\n",
       "      <th>2172371122509578610</th>\n",
       "      <td>apparel.shoes</td>\n",
       "    </tr>\n",
       "    <tr>\n",
       "      <th>2172371436436455782</th>\n",
       "      <td>electronics.tablet</td>\n",
       "    </tr>\n",
       "    <tr>\n",
       "      <th>2173216765583032544</th>\n",
       "      <td>apparel.shirt</td>\n",
       "    </tr>\n",
       "    <tr>\n",
       "      <th>2175419595093967522</th>\n",
       "      <td>None</td>\n",
       "    </tr>\n",
       "  </tbody>\n",
       "</table>\n",
       "<p>624 rows × 1 columns</p>\n",
       "</div>"
      ],
      "text/plain": [
       "                                              category_code\n",
       "category_id                                                \n",
       "2053013552226107603              appliances.environment.fan\n",
       "2053013552259662037                                    None\n",
       "2053013552293216471       appliances.environment.air_heater\n",
       "2053013552326770905     appliances.environment.water_heater\n",
       "2053013552351936731  appliances.environment.air_conditioner\n",
       "...                                                     ...\n",
       "2172371118332051820                           apparel.shoes\n",
       "2172371122509578610                           apparel.shoes\n",
       "2172371436436455782                      electronics.tablet\n",
       "2173216765583032544                           apparel.shirt\n",
       "2175419595093967522                                    None\n",
       "\n",
       "[624 rows x 1 columns]"
      ]
     },
     "execution_count": 122,
     "metadata": {},
     "output_type": "execute_result"
    }
   ],
   "source": [
    "df"
   ]
  },
  {
   "cell_type": "code",
   "execution_count": 134,
   "id": "3a5707df",
   "metadata": {},
   "outputs": [
    {
     "data": {
      "text/html": [
       "<div>\n",
       "<style scoped>\n",
       "    .dataframe tbody tr th:only-of-type {\n",
       "        vertical-align: middle;\n",
       "    }\n",
       "\n",
       "    .dataframe tbody tr th {\n",
       "        vertical-align: top;\n",
       "    }\n",
       "\n",
       "    .dataframe thead th {\n",
       "        text-align: right;\n",
       "    }\n",
       "</style>\n",
       "<table border=\"1\" class=\"dataframe\">\n",
       "  <thead>\n",
       "    <tr style=\"text-align: right;\">\n",
       "      <th></th>\n",
       "      <th>category_code</th>\n",
       "    </tr>\n",
       "    <tr>\n",
       "      <th>category_id</th>\n",
       "      <th></th>\n",
       "    </tr>\n",
       "  </thead>\n",
       "  <tbody>\n",
       "    <tr>\n",
       "      <th>2053013552259662037</th>\n",
       "      <td>None</td>\n",
       "    </tr>\n",
       "    <tr>\n",
       "      <th>2053013552385491165</th>\n",
       "      <td>None</td>\n",
       "    </tr>\n",
       "    <tr>\n",
       "      <th>2053013552427434207</th>\n",
       "      <td>None</td>\n",
       "    </tr>\n",
       "    <tr>\n",
       "      <th>2053013552469377249</th>\n",
       "      <td>None</td>\n",
       "    </tr>\n",
       "    <tr>\n",
       "      <th>2053013552662315243</th>\n",
       "      <td>None</td>\n",
       "    </tr>\n",
       "    <tr>\n",
       "      <th>...</th>\n",
       "      <td>...</td>\n",
       "    </tr>\n",
       "    <tr>\n",
       "      <th>2162513024617808683</th>\n",
       "      <td>None</td>\n",
       "    </tr>\n",
       "    <tr>\n",
       "      <th>2162513070000177858</th>\n",
       "      <td>None</td>\n",
       "    </tr>\n",
       "    <tr>\n",
       "      <th>2162513074060264222</th>\n",
       "      <td>None</td>\n",
       "    </tr>\n",
       "    <tr>\n",
       "      <th>2164367422893589471</th>\n",
       "      <td>None</td>\n",
       "    </tr>\n",
       "    <tr>\n",
       "      <th>2175419595093967522</th>\n",
       "      <td>None</td>\n",
       "    </tr>\n",
       "  </tbody>\n",
       "</table>\n",
       "<p>372 rows × 1 columns</p>\n",
       "</div>"
      ],
      "text/plain": [
       "                    category_code\n",
       "category_id                      \n",
       "2053013552259662037          None\n",
       "2053013552385491165          None\n",
       "2053013552427434207          None\n",
       "2053013552469377249          None\n",
       "2053013552662315243          None\n",
       "...                           ...\n",
       "2162513024617808683          None\n",
       "2162513070000177858          None\n",
       "2162513074060264222          None\n",
       "2164367422893589471          None\n",
       "2175419595093967522          None\n",
       "\n",
       "[372 rows x 1 columns]"
      ]
     },
     "execution_count": 134,
     "metadata": {},
     "output_type": "execute_result"
    }
   ],
   "source": [
    "df[df['category_code'].apply(lambda x: x is None)]"
   ]
  },
  {
   "cell_type": "code",
   "execution_count": null,
   "id": "59e6771b",
   "metadata": {},
   "outputs": [],
   "source": []
  }
 ],
 "metadata": {
  "kernelspec": {
   "display_name": "Python 3 (ipykernel)",
   "language": "python",
   "name": "python3"
  },
  "language_info": {
   "codemirror_mode": {
    "name": "ipython",
    "version": 3
   },
   "file_extension": ".py",
   "mimetype": "text/x-python",
   "name": "python",
   "nbconvert_exporter": "python",
   "pygments_lexer": "ipython3",
   "version": "3.9.13"
  },
  "toc": {
   "base_numbering": 1,
   "nav_menu": {},
   "number_sections": true,
   "sideBar": true,
   "skip_h1_title": true,
   "title_cell": "Index",
   "title_sidebar": "Index",
   "toc_cell": false,
   "toc_position": {
    "height": "47.75px",
    "left": "1158.7px",
    "top": "54px",
    "width": "212px"
   },
   "toc_section_display": true,
   "toc_window_display": true
  }
 },
 "nbformat": 4,
 "nbformat_minor": 5
}
