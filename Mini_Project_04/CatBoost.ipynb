{
 "cells": [
  {
   "cell_type": "code",
   "execution_count": 106,
   "id": "73ad0529",
   "metadata": {},
   "outputs": [],
   "source": [
    "import catboost\n",
    "import numpy as np\n",
    "import pandas as pd\n",
    "from scipy.stats import randint\n",
    "from imblearn.over_sampling import SMOTE\n",
    "from sklearn.utils.fixes import loguniform\n",
    "from sklearn.model_selection import train_test_split, cross_validate\n",
    "from sklearn.metrics import accuracy_score, f1_score, precision_score, recall_score"
   ]
  },
  {
   "cell_type": "markdown",
   "id": "cd66647e",
   "metadata": {},
   "source": [
    "## 데이터 로드"
   ]
  },
  {
   "cell_type": "code",
   "execution_count": 2,
   "id": "4db54fa4",
   "metadata": {},
   "outputs": [],
   "source": [
    "train = pd.read_csv('./data/train.csv', index_col='ID')\n",
    "test = pd.read_csv('./data/test.csv', index_col='ID')"
   ]
  },
  {
   "cell_type": "code",
   "execution_count": 3,
   "id": "2963bace",
   "metadata": {},
   "outputs": [
    {
     "data": {
      "text/plain": [
       "((30200, 13), (12943, 12))"
      ]
     },
     "execution_count": 3,
     "metadata": {},
     "output_type": "execute_result"
    }
   ],
   "source": [
    "train.shape, test.shape"
   ]
  },
  {
   "cell_type": "code",
   "execution_count": 4,
   "id": "e6d8d331",
   "metadata": {},
   "outputs": [
    {
     "data": {
      "text/html": [
       "<div>\n",
       "<style scoped>\n",
       "    .dataframe tbody tr th:only-of-type {\n",
       "        vertical-align: middle;\n",
       "    }\n",
       "\n",
       "    .dataframe tbody tr th {\n",
       "        vertical-align: top;\n",
       "    }\n",
       "\n",
       "    .dataframe thead th {\n",
       "        text-align: right;\n",
       "    }\n",
       "</style>\n",
       "<table border=\"1\" class=\"dataframe\">\n",
       "  <thead>\n",
       "    <tr style=\"text-align: right;\">\n",
       "      <th></th>\n",
       "      <th>가입일</th>\n",
       "      <th>음성사서함이용</th>\n",
       "      <th>주간통화시간</th>\n",
       "      <th>주간통화횟수</th>\n",
       "      <th>주간통화요금</th>\n",
       "      <th>저녁통화시간</th>\n",
       "      <th>저녁통화횟수</th>\n",
       "      <th>저녁통화요금</th>\n",
       "      <th>밤통화시간</th>\n",
       "      <th>밤통화횟수</th>\n",
       "      <th>밤통화요금</th>\n",
       "      <th>상담전화건수</th>\n",
       "      <th>전화해지여부</th>\n",
       "    </tr>\n",
       "    <tr>\n",
       "      <th>ID</th>\n",
       "      <th></th>\n",
       "      <th></th>\n",
       "      <th></th>\n",
       "      <th></th>\n",
       "      <th></th>\n",
       "      <th></th>\n",
       "      <th></th>\n",
       "      <th></th>\n",
       "      <th></th>\n",
       "      <th></th>\n",
       "      <th></th>\n",
       "      <th></th>\n",
       "      <th></th>\n",
       "    </tr>\n",
       "  </thead>\n",
       "  <tbody>\n",
       "    <tr>\n",
       "      <th>TRAIN_00000</th>\n",
       "      <td>329</td>\n",
       "      <td>0</td>\n",
       "      <td>99.2</td>\n",
       "      <td>93</td>\n",
       "      <td>27.3</td>\n",
       "      <td>268.8</td>\n",
       "      <td>68</td>\n",
       "      <td>28.92</td>\n",
       "      <td>262.9</td>\n",
       "      <td>328</td>\n",
       "      <td>32.89</td>\n",
       "      <td>2</td>\n",
       "      <td>0</td>\n",
       "    </tr>\n",
       "    <tr>\n",
       "      <th>TRAIN_00001</th>\n",
       "      <td>2</td>\n",
       "      <td>80</td>\n",
       "      <td>323.9</td>\n",
       "      <td>323</td>\n",
       "      <td>83.7</td>\n",
       "      <td>269.4</td>\n",
       "      <td>326</td>\n",
       "      <td>32.09</td>\n",
       "      <td>322.8</td>\n",
       "      <td>209</td>\n",
       "      <td>32.32</td>\n",
       "      <td>2</td>\n",
       "      <td>0</td>\n",
       "    </tr>\n",
       "    <tr>\n",
       "      <th>TRAIN_00002</th>\n",
       "      <td>93</td>\n",
       "      <td>28</td>\n",
       "      <td>282.4</td>\n",
       "      <td>323</td>\n",
       "      <td>34.2</td>\n",
       "      <td>207.0</td>\n",
       "      <td>322</td>\n",
       "      <td>32.82</td>\n",
       "      <td>280.8</td>\n",
       "      <td>328</td>\n",
       "      <td>8.28</td>\n",
       "      <td>0</td>\n",
       "      <td>0</td>\n",
       "    </tr>\n",
       "    <tr>\n",
       "      <th>TRAIN_00003</th>\n",
       "      <td>223</td>\n",
       "      <td>1</td>\n",
       "      <td>221.4</td>\n",
       "      <td>223</td>\n",
       "      <td>25.1</td>\n",
       "      <td>233.0</td>\n",
       "      <td>61</td>\n",
       "      <td>23.90</td>\n",
       "      <td>203.8</td>\n",
       "      <td>234</td>\n",
       "      <td>9.36</td>\n",
       "      <td>0</td>\n",
       "      <td>0</td>\n",
       "    </tr>\n",
       "    <tr>\n",
       "      <th>TRAIN_00004</th>\n",
       "      <td>222</td>\n",
       "      <td>0</td>\n",
       "      <td>96.3</td>\n",
       "      <td>222</td>\n",
       "      <td>28.7</td>\n",
       "      <td>223.9</td>\n",
       "      <td>69</td>\n",
       "      <td>28.08</td>\n",
       "      <td>263.1</td>\n",
       "      <td>223</td>\n",
       "      <td>2.80</td>\n",
       "      <td>8</td>\n",
       "      <td>0</td>\n",
       "    </tr>\n",
       "  </tbody>\n",
       "</table>\n",
       "</div>"
      ],
      "text/plain": [
       "             가입일  음성사서함이용  주간통화시간  주간통화횟수  주간통화요금  저녁통화시간  저녁통화횟수  저녁통화요금  \\\n",
       "ID                                                                          \n",
       "TRAIN_00000  329        0    99.2      93    27.3   268.8      68   28.92   \n",
       "TRAIN_00001    2       80   323.9     323    83.7   269.4     326   32.09   \n",
       "TRAIN_00002   93       28   282.4     323    34.2   207.0     322   32.82   \n",
       "TRAIN_00003  223        1   221.4     223    25.1   233.0      61   23.90   \n",
       "TRAIN_00004  222        0    96.3     222    28.7   223.9      69   28.08   \n",
       "\n",
       "             밤통화시간  밤통화횟수  밤통화요금  상담전화건수  전화해지여부  \n",
       "ID                                                \n",
       "TRAIN_00000  262.9    328  32.89       2       0  \n",
       "TRAIN_00001  322.8    209  32.32       2       0  \n",
       "TRAIN_00002  280.8    328   8.28       0       0  \n",
       "TRAIN_00003  203.8    234   9.36       0       0  \n",
       "TRAIN_00004  263.1    223   2.80       8       0  "
      ]
     },
     "execution_count": 4,
     "metadata": {},
     "output_type": "execute_result"
    }
   ],
   "source": [
    "train.head()"
   ]
  },
  {
   "cell_type": "code",
   "execution_count": 5,
   "id": "07940eea",
   "metadata": {},
   "outputs": [
    {
     "data": {
      "text/html": [
       "<div>\n",
       "<style scoped>\n",
       "    .dataframe tbody tr th:only-of-type {\n",
       "        vertical-align: middle;\n",
       "    }\n",
       "\n",
       "    .dataframe tbody tr th {\n",
       "        vertical-align: top;\n",
       "    }\n",
       "\n",
       "    .dataframe thead th {\n",
       "        text-align: right;\n",
       "    }\n",
       "</style>\n",
       "<table border=\"1\" class=\"dataframe\">\n",
       "  <thead>\n",
       "    <tr style=\"text-align: right;\">\n",
       "      <th></th>\n",
       "      <th>가입일</th>\n",
       "      <th>음성사서함이용</th>\n",
       "      <th>주간통화시간</th>\n",
       "      <th>주간통화횟수</th>\n",
       "      <th>주간통화요금</th>\n",
       "      <th>저녁통화시간</th>\n",
       "      <th>저녁통화횟수</th>\n",
       "      <th>저녁통화요금</th>\n",
       "      <th>밤통화시간</th>\n",
       "      <th>밤통화횟수</th>\n",
       "      <th>밤통화요금</th>\n",
       "      <th>상담전화건수</th>\n",
       "    </tr>\n",
       "    <tr>\n",
       "      <th>ID</th>\n",
       "      <th></th>\n",
       "      <th></th>\n",
       "      <th></th>\n",
       "      <th></th>\n",
       "      <th></th>\n",
       "      <th></th>\n",
       "      <th></th>\n",
       "      <th></th>\n",
       "      <th></th>\n",
       "      <th></th>\n",
       "      <th></th>\n",
       "      <th></th>\n",
       "    </tr>\n",
       "  </thead>\n",
       "  <tbody>\n",
       "    <tr>\n",
       "      <th>TEST_00000</th>\n",
       "      <td>110</td>\n",
       "      <td>0</td>\n",
       "      <td>210.7</td>\n",
       "      <td>142</td>\n",
       "      <td>35.6</td>\n",
       "      <td>205.9</td>\n",
       "      <td>93</td>\n",
       "      <td>17.43</td>\n",
       "      <td>120.9</td>\n",
       "      <td>111</td>\n",
       "      <td>5.37</td>\n",
       "      <td>2</td>\n",
       "    </tr>\n",
       "    <tr>\n",
       "      <th>TEST_00001</th>\n",
       "      <td>283</td>\n",
       "      <td>1</td>\n",
       "      <td>268.5</td>\n",
       "      <td>100</td>\n",
       "      <td>30.3</td>\n",
       "      <td>283.0</td>\n",
       "      <td>92</td>\n",
       "      <td>28.32</td>\n",
       "      <td>290.0</td>\n",
       "      <td>89</td>\n",
       "      <td>8.82</td>\n",
       "      <td>0</td>\n",
       "    </tr>\n",
       "    <tr>\n",
       "      <th>TEST_00002</th>\n",
       "      <td>34</td>\n",
       "      <td>1</td>\n",
       "      <td>243.3</td>\n",
       "      <td>205</td>\n",
       "      <td>21.3</td>\n",
       "      <td>225.7</td>\n",
       "      <td>205</td>\n",
       "      <td>29.00</td>\n",
       "      <td>92.6</td>\n",
       "      <td>29</td>\n",
       "      <td>2.44</td>\n",
       "      <td>2</td>\n",
       "    </tr>\n",
       "    <tr>\n",
       "      <th>TEST_00003</th>\n",
       "      <td>209</td>\n",
       "      <td>86</td>\n",
       "      <td>83.0</td>\n",
       "      <td>93</td>\n",
       "      <td>24.1</td>\n",
       "      <td>270.6</td>\n",
       "      <td>220</td>\n",
       "      <td>22.89</td>\n",
       "      <td>266.9</td>\n",
       "      <td>81</td>\n",
       "      <td>2.80</td>\n",
       "      <td>6</td>\n",
       "    </tr>\n",
       "    <tr>\n",
       "      <th>TEST_00004</th>\n",
       "      <td>202</td>\n",
       "      <td>0</td>\n",
       "      <td>293.2</td>\n",
       "      <td>23</td>\n",
       "      <td>31.0</td>\n",
       "      <td>294.0</td>\n",
       "      <td>24</td>\n",
       "      <td>26.39</td>\n",
       "      <td>223.8</td>\n",
       "      <td>33</td>\n",
       "      <td>6.66</td>\n",
       "      <td>2</td>\n",
       "    </tr>\n",
       "  </tbody>\n",
       "</table>\n",
       "</div>"
      ],
      "text/plain": [
       "            가입일  음성사서함이용  주간통화시간  주간통화횟수  주간통화요금  저녁통화시간  저녁통화횟수  저녁통화요금  \\\n",
       "ID                                                                         \n",
       "TEST_00000  110        0   210.7     142    35.6   205.9      93   17.43   \n",
       "TEST_00001  283        1   268.5     100    30.3   283.0      92   28.32   \n",
       "TEST_00002   34        1   243.3     205    21.3   225.7     205   29.00   \n",
       "TEST_00003  209       86    83.0      93    24.1   270.6     220   22.89   \n",
       "TEST_00004  202        0   293.2      23    31.0   294.0      24   26.39   \n",
       "\n",
       "            밤통화시간  밤통화횟수  밤통화요금  상담전화건수  \n",
       "ID                                       \n",
       "TEST_00000  120.9    111   5.37       2  \n",
       "TEST_00001  290.0     89   8.82       0  \n",
       "TEST_00002   92.6     29   2.44       2  \n",
       "TEST_00003  266.9     81   2.80       6  \n",
       "TEST_00004  223.8     33   6.66       2  "
      ]
     },
     "execution_count": 5,
     "metadata": {},
     "output_type": "execute_result"
    }
   ],
   "source": [
    "test.head()"
   ]
  },
  {
   "cell_type": "markdown",
   "id": "b9735d6c",
   "metadata": {},
   "source": [
    "## 파생 변수 생성"
   ]
  },
  {
   "cell_type": "code",
   "execution_count": 6,
   "id": "90438418",
   "metadata": {},
   "outputs": [],
   "source": [
    "train['통화시간'] = train['주간통화시간'] + train['저녁통화시간'] + train['밤통화시간']"
   ]
  },
  {
   "cell_type": "code",
   "execution_count": 7,
   "id": "b6d71b16",
   "metadata": {},
   "outputs": [],
   "source": [
    "train['통화횟수'] = train['주간통화횟수'] + train['저녁통화횟수'] + train['밤통화횟수']"
   ]
  },
  {
   "cell_type": "code",
   "execution_count": 8,
   "id": "d94bb60d",
   "metadata": {},
   "outputs": [],
   "source": [
    "train['통화요금'] = train['주간통화요금'] + train['저녁통화요금'] + train['밤통화요금']"
   ]
  },
  {
   "cell_type": "code",
   "execution_count": 9,
   "id": "0a952c94",
   "metadata": {},
   "outputs": [],
   "source": [
    "test['통화시간'] = test['주간통화시간'] + test['저녁통화시간'] + test['밤통화시간']"
   ]
  },
  {
   "cell_type": "code",
   "execution_count": 10,
   "id": "bc584623",
   "metadata": {},
   "outputs": [],
   "source": [
    "test['통화횟수'] = test['주간통화횟수'] + test['저녁통화횟수'] + test['밤통화횟수']"
   ]
  },
  {
   "cell_type": "code",
   "execution_count": 11,
   "id": "cd217c85",
   "metadata": {},
   "outputs": [],
   "source": [
    "test['통화요금'] = test['주간통화요금'] + test['저녁통화요금'] + test['밤통화요금']"
   ]
  },
  {
   "cell_type": "code",
   "execution_count": 12,
   "id": "a1fba871",
   "metadata": {},
   "outputs": [
    {
     "data": {
      "text/html": [
       "<div>\n",
       "<style scoped>\n",
       "    .dataframe tbody tr th:only-of-type {\n",
       "        vertical-align: middle;\n",
       "    }\n",
       "\n",
       "    .dataframe tbody tr th {\n",
       "        vertical-align: top;\n",
       "    }\n",
       "\n",
       "    .dataframe thead th {\n",
       "        text-align: right;\n",
       "    }\n",
       "</style>\n",
       "<table border=\"1\" class=\"dataframe\">\n",
       "  <thead>\n",
       "    <tr style=\"text-align: right;\">\n",
       "      <th></th>\n",
       "      <th>가입일</th>\n",
       "      <th>음성사서함이용</th>\n",
       "      <th>주간통화시간</th>\n",
       "      <th>주간통화횟수</th>\n",
       "      <th>주간통화요금</th>\n",
       "      <th>저녁통화시간</th>\n",
       "      <th>저녁통화횟수</th>\n",
       "      <th>저녁통화요금</th>\n",
       "      <th>밤통화시간</th>\n",
       "      <th>밤통화횟수</th>\n",
       "      <th>밤통화요금</th>\n",
       "      <th>상담전화건수</th>\n",
       "      <th>전화해지여부</th>\n",
       "      <th>통화시간</th>\n",
       "      <th>통화횟수</th>\n",
       "      <th>통화요금</th>\n",
       "    </tr>\n",
       "    <tr>\n",
       "      <th>ID</th>\n",
       "      <th></th>\n",
       "      <th></th>\n",
       "      <th></th>\n",
       "      <th></th>\n",
       "      <th></th>\n",
       "      <th></th>\n",
       "      <th></th>\n",
       "      <th></th>\n",
       "      <th></th>\n",
       "      <th></th>\n",
       "      <th></th>\n",
       "      <th></th>\n",
       "      <th></th>\n",
       "      <th></th>\n",
       "      <th></th>\n",
       "      <th></th>\n",
       "    </tr>\n",
       "  </thead>\n",
       "  <tbody>\n",
       "    <tr>\n",
       "      <th>TRAIN_00000</th>\n",
       "      <td>329</td>\n",
       "      <td>0</td>\n",
       "      <td>99.2</td>\n",
       "      <td>93</td>\n",
       "      <td>27.3</td>\n",
       "      <td>268.8</td>\n",
       "      <td>68</td>\n",
       "      <td>28.92</td>\n",
       "      <td>262.9</td>\n",
       "      <td>328</td>\n",
       "      <td>32.89</td>\n",
       "      <td>2</td>\n",
       "      <td>0</td>\n",
       "      <td>630.9</td>\n",
       "      <td>489</td>\n",
       "      <td>89.11</td>\n",
       "    </tr>\n",
       "    <tr>\n",
       "      <th>TRAIN_00001</th>\n",
       "      <td>2</td>\n",
       "      <td>80</td>\n",
       "      <td>323.9</td>\n",
       "      <td>323</td>\n",
       "      <td>83.7</td>\n",
       "      <td>269.4</td>\n",
       "      <td>326</td>\n",
       "      <td>32.09</td>\n",
       "      <td>322.8</td>\n",
       "      <td>209</td>\n",
       "      <td>32.32</td>\n",
       "      <td>2</td>\n",
       "      <td>0</td>\n",
       "      <td>916.1</td>\n",
       "      <td>858</td>\n",
       "      <td>148.11</td>\n",
       "    </tr>\n",
       "    <tr>\n",
       "      <th>TRAIN_00002</th>\n",
       "      <td>93</td>\n",
       "      <td>28</td>\n",
       "      <td>282.4</td>\n",
       "      <td>323</td>\n",
       "      <td>34.2</td>\n",
       "      <td>207.0</td>\n",
       "      <td>322</td>\n",
       "      <td>32.82</td>\n",
       "      <td>280.8</td>\n",
       "      <td>328</td>\n",
       "      <td>8.28</td>\n",
       "      <td>0</td>\n",
       "      <td>0</td>\n",
       "      <td>770.2</td>\n",
       "      <td>973</td>\n",
       "      <td>75.30</td>\n",
       "    </tr>\n",
       "    <tr>\n",
       "      <th>TRAIN_00003</th>\n",
       "      <td>223</td>\n",
       "      <td>1</td>\n",
       "      <td>221.4</td>\n",
       "      <td>223</td>\n",
       "      <td>25.1</td>\n",
       "      <td>233.0</td>\n",
       "      <td>61</td>\n",
       "      <td>23.90</td>\n",
       "      <td>203.8</td>\n",
       "      <td>234</td>\n",
       "      <td>9.36</td>\n",
       "      <td>0</td>\n",
       "      <td>0</td>\n",
       "      <td>658.2</td>\n",
       "      <td>518</td>\n",
       "      <td>58.36</td>\n",
       "    </tr>\n",
       "    <tr>\n",
       "      <th>TRAIN_00004</th>\n",
       "      <td>222</td>\n",
       "      <td>0</td>\n",
       "      <td>96.3</td>\n",
       "      <td>222</td>\n",
       "      <td>28.7</td>\n",
       "      <td>223.9</td>\n",
       "      <td>69</td>\n",
       "      <td>28.08</td>\n",
       "      <td>263.1</td>\n",
       "      <td>223</td>\n",
       "      <td>2.80</td>\n",
       "      <td>8</td>\n",
       "      <td>0</td>\n",
       "      <td>583.3</td>\n",
       "      <td>514</td>\n",
       "      <td>59.58</td>\n",
       "    </tr>\n",
       "  </tbody>\n",
       "</table>\n",
       "</div>"
      ],
      "text/plain": [
       "             가입일  음성사서함이용  주간통화시간  주간통화횟수  주간통화요금  저녁통화시간  저녁통화횟수  저녁통화요금  \\\n",
       "ID                                                                          \n",
       "TRAIN_00000  329        0    99.2      93    27.3   268.8      68   28.92   \n",
       "TRAIN_00001    2       80   323.9     323    83.7   269.4     326   32.09   \n",
       "TRAIN_00002   93       28   282.4     323    34.2   207.0     322   32.82   \n",
       "TRAIN_00003  223        1   221.4     223    25.1   233.0      61   23.90   \n",
       "TRAIN_00004  222        0    96.3     222    28.7   223.9      69   28.08   \n",
       "\n",
       "             밤통화시간  밤통화횟수  밤통화요금  상담전화건수  전화해지여부   통화시간  통화횟수    통화요금  \n",
       "ID                                                                     \n",
       "TRAIN_00000  262.9    328  32.89       2       0  630.9   489   89.11  \n",
       "TRAIN_00001  322.8    209  32.32       2       0  916.1   858  148.11  \n",
       "TRAIN_00002  280.8    328   8.28       0       0  770.2   973   75.30  \n",
       "TRAIN_00003  203.8    234   9.36       0       0  658.2   518   58.36  \n",
       "TRAIN_00004  263.1    223   2.80       8       0  583.3   514   59.58  "
      ]
     },
     "execution_count": 12,
     "metadata": {},
     "output_type": "execute_result"
    }
   ],
   "source": [
    "train.head()"
   ]
  },
  {
   "cell_type": "code",
   "execution_count": 13,
   "id": "9d300293",
   "metadata": {},
   "outputs": [
    {
     "data": {
      "text/html": [
       "<div>\n",
       "<style scoped>\n",
       "    .dataframe tbody tr th:only-of-type {\n",
       "        vertical-align: middle;\n",
       "    }\n",
       "\n",
       "    .dataframe tbody tr th {\n",
       "        vertical-align: top;\n",
       "    }\n",
       "\n",
       "    .dataframe thead th {\n",
       "        text-align: right;\n",
       "    }\n",
       "</style>\n",
       "<table border=\"1\" class=\"dataframe\">\n",
       "  <thead>\n",
       "    <tr style=\"text-align: right;\">\n",
       "      <th></th>\n",
       "      <th>가입일</th>\n",
       "      <th>음성사서함이용</th>\n",
       "      <th>주간통화시간</th>\n",
       "      <th>주간통화횟수</th>\n",
       "      <th>주간통화요금</th>\n",
       "      <th>저녁통화시간</th>\n",
       "      <th>저녁통화횟수</th>\n",
       "      <th>저녁통화요금</th>\n",
       "      <th>밤통화시간</th>\n",
       "      <th>밤통화횟수</th>\n",
       "      <th>밤통화요금</th>\n",
       "      <th>상담전화건수</th>\n",
       "      <th>통화시간</th>\n",
       "      <th>통화횟수</th>\n",
       "      <th>통화요금</th>\n",
       "    </tr>\n",
       "    <tr>\n",
       "      <th>ID</th>\n",
       "      <th></th>\n",
       "      <th></th>\n",
       "      <th></th>\n",
       "      <th></th>\n",
       "      <th></th>\n",
       "      <th></th>\n",
       "      <th></th>\n",
       "      <th></th>\n",
       "      <th></th>\n",
       "      <th></th>\n",
       "      <th></th>\n",
       "      <th></th>\n",
       "      <th></th>\n",
       "      <th></th>\n",
       "      <th></th>\n",
       "    </tr>\n",
       "  </thead>\n",
       "  <tbody>\n",
       "    <tr>\n",
       "      <th>TEST_00000</th>\n",
       "      <td>110</td>\n",
       "      <td>0</td>\n",
       "      <td>210.7</td>\n",
       "      <td>142</td>\n",
       "      <td>35.6</td>\n",
       "      <td>205.9</td>\n",
       "      <td>93</td>\n",
       "      <td>17.43</td>\n",
       "      <td>120.9</td>\n",
       "      <td>111</td>\n",
       "      <td>5.37</td>\n",
       "      <td>2</td>\n",
       "      <td>537.5</td>\n",
       "      <td>346</td>\n",
       "      <td>58.40</td>\n",
       "    </tr>\n",
       "    <tr>\n",
       "      <th>TEST_00001</th>\n",
       "      <td>283</td>\n",
       "      <td>1</td>\n",
       "      <td>268.5</td>\n",
       "      <td>100</td>\n",
       "      <td>30.3</td>\n",
       "      <td>283.0</td>\n",
       "      <td>92</td>\n",
       "      <td>28.32</td>\n",
       "      <td>290.0</td>\n",
       "      <td>89</td>\n",
       "      <td>8.82</td>\n",
       "      <td>0</td>\n",
       "      <td>841.5</td>\n",
       "      <td>281</td>\n",
       "      <td>67.44</td>\n",
       "    </tr>\n",
       "    <tr>\n",
       "      <th>TEST_00002</th>\n",
       "      <td>34</td>\n",
       "      <td>1</td>\n",
       "      <td>243.3</td>\n",
       "      <td>205</td>\n",
       "      <td>21.3</td>\n",
       "      <td>225.7</td>\n",
       "      <td>205</td>\n",
       "      <td>29.00</td>\n",
       "      <td>92.6</td>\n",
       "      <td>29</td>\n",
       "      <td>2.44</td>\n",
       "      <td>2</td>\n",
       "      <td>561.6</td>\n",
       "      <td>439</td>\n",
       "      <td>52.74</td>\n",
       "    </tr>\n",
       "    <tr>\n",
       "      <th>TEST_00003</th>\n",
       "      <td>209</td>\n",
       "      <td>86</td>\n",
       "      <td>83.0</td>\n",
       "      <td>93</td>\n",
       "      <td>24.1</td>\n",
       "      <td>270.6</td>\n",
       "      <td>220</td>\n",
       "      <td>22.89</td>\n",
       "      <td>266.9</td>\n",
       "      <td>81</td>\n",
       "      <td>2.80</td>\n",
       "      <td>6</td>\n",
       "      <td>620.5</td>\n",
       "      <td>394</td>\n",
       "      <td>49.79</td>\n",
       "    </tr>\n",
       "    <tr>\n",
       "      <th>TEST_00004</th>\n",
       "      <td>202</td>\n",
       "      <td>0</td>\n",
       "      <td>293.2</td>\n",
       "      <td>23</td>\n",
       "      <td>31.0</td>\n",
       "      <td>294.0</td>\n",
       "      <td>24</td>\n",
       "      <td>26.39</td>\n",
       "      <td>223.8</td>\n",
       "      <td>33</td>\n",
       "      <td>6.66</td>\n",
       "      <td>2</td>\n",
       "      <td>811.0</td>\n",
       "      <td>80</td>\n",
       "      <td>64.05</td>\n",
       "    </tr>\n",
       "  </tbody>\n",
       "</table>\n",
       "</div>"
      ],
      "text/plain": [
       "            가입일  음성사서함이용  주간통화시간  주간통화횟수  주간통화요금  저녁통화시간  저녁통화횟수  저녁통화요금  \\\n",
       "ID                                                                         \n",
       "TEST_00000  110        0   210.7     142    35.6   205.9      93   17.43   \n",
       "TEST_00001  283        1   268.5     100    30.3   283.0      92   28.32   \n",
       "TEST_00002   34        1   243.3     205    21.3   225.7     205   29.00   \n",
       "TEST_00003  209       86    83.0      93    24.1   270.6     220   22.89   \n",
       "TEST_00004  202        0   293.2      23    31.0   294.0      24   26.39   \n",
       "\n",
       "            밤통화시간  밤통화횟수  밤통화요금  상담전화건수   통화시간  통화횟수   통화요금  \n",
       "ID                                                           \n",
       "TEST_00000  120.9    111   5.37       2  537.5   346  58.40  \n",
       "TEST_00001  290.0     89   8.82       0  841.5   281  67.44  \n",
       "TEST_00002   92.6     29   2.44       2  561.6   439  52.74  \n",
       "TEST_00003  266.9     81   2.80       6  620.5   394  49.79  \n",
       "TEST_00004  223.8     33   6.66       2  811.0    80  64.05  "
      ]
     },
     "execution_count": 13,
     "metadata": {},
     "output_type": "execute_result"
    }
   ],
   "source": [
    "test.head()"
   ]
  },
  {
   "cell_type": "markdown",
   "id": "5e41e12d",
   "metadata": {},
   "source": [
    "## 데이터 전처리"
   ]
  },
  {
   "cell_type": "code",
   "execution_count": 14,
   "id": "4e57b2b8",
   "metadata": {},
   "outputs": [],
   "source": [
    "label_name = '전화해지여부'"
   ]
  },
  {
   "cell_type": "code",
   "execution_count": 15,
   "id": "08687bdc",
   "metadata": {},
   "outputs": [],
   "source": [
    "X1 = train.drop(columns=[label_name, '통화시간', '통화횟수', '통화요금']).copy()"
   ]
  },
  {
   "cell_type": "code",
   "execution_count": 16,
   "id": "031c1a67",
   "metadata": {},
   "outputs": [],
   "source": [
    "X2 = train[['가입일', '음성사서함이용', '상담전화건수', '통화시간', '통화횟수', '통화요금']].copy()"
   ]
  },
  {
   "cell_type": "code",
   "execution_count": 17,
   "id": "0dc21b68",
   "metadata": {},
   "outputs": [],
   "source": [
    "y = train[label_name].copy()"
   ]
  },
  {
   "cell_type": "code",
   "execution_count": 18,
   "id": "78cd3d70",
   "metadata": {},
   "outputs": [
    {
     "data": {
      "text/plain": [
       "((30200, 12), (30200, 6), (30200,))"
      ]
     },
     "execution_count": 18,
     "metadata": {},
     "output_type": "execute_result"
    }
   ],
   "source": [
    "X1.shape, X2.shape, y.shape"
   ]
  },
  {
   "cell_type": "code",
   "execution_count": 19,
   "id": "df6bf3a4",
   "metadata": {},
   "outputs": [
    {
     "data": {
      "text/html": [
       "<div>\n",
       "<style scoped>\n",
       "    .dataframe tbody tr th:only-of-type {\n",
       "        vertical-align: middle;\n",
       "    }\n",
       "\n",
       "    .dataframe tbody tr th {\n",
       "        vertical-align: top;\n",
       "    }\n",
       "\n",
       "    .dataframe thead th {\n",
       "        text-align: right;\n",
       "    }\n",
       "</style>\n",
       "<table border=\"1\" class=\"dataframe\">\n",
       "  <thead>\n",
       "    <tr style=\"text-align: right;\">\n",
       "      <th></th>\n",
       "      <th>가입일</th>\n",
       "      <th>음성사서함이용</th>\n",
       "      <th>주간통화시간</th>\n",
       "      <th>주간통화횟수</th>\n",
       "      <th>주간통화요금</th>\n",
       "      <th>저녁통화시간</th>\n",
       "      <th>저녁통화횟수</th>\n",
       "      <th>저녁통화요금</th>\n",
       "      <th>밤통화시간</th>\n",
       "      <th>밤통화횟수</th>\n",
       "      <th>밤통화요금</th>\n",
       "      <th>상담전화건수</th>\n",
       "    </tr>\n",
       "    <tr>\n",
       "      <th>ID</th>\n",
       "      <th></th>\n",
       "      <th></th>\n",
       "      <th></th>\n",
       "      <th></th>\n",
       "      <th></th>\n",
       "      <th></th>\n",
       "      <th></th>\n",
       "      <th></th>\n",
       "      <th></th>\n",
       "      <th></th>\n",
       "      <th></th>\n",
       "      <th></th>\n",
       "    </tr>\n",
       "  </thead>\n",
       "  <tbody>\n",
       "    <tr>\n",
       "      <th>TRAIN_00000</th>\n",
       "      <td>329</td>\n",
       "      <td>0</td>\n",
       "      <td>99.2</td>\n",
       "      <td>93</td>\n",
       "      <td>27.3</td>\n",
       "      <td>268.8</td>\n",
       "      <td>68</td>\n",
       "      <td>28.92</td>\n",
       "      <td>262.9</td>\n",
       "      <td>328</td>\n",
       "      <td>32.89</td>\n",
       "      <td>2</td>\n",
       "    </tr>\n",
       "    <tr>\n",
       "      <th>TRAIN_00001</th>\n",
       "      <td>2</td>\n",
       "      <td>80</td>\n",
       "      <td>323.9</td>\n",
       "      <td>323</td>\n",
       "      <td>83.7</td>\n",
       "      <td>269.4</td>\n",
       "      <td>326</td>\n",
       "      <td>32.09</td>\n",
       "      <td>322.8</td>\n",
       "      <td>209</td>\n",
       "      <td>32.32</td>\n",
       "      <td>2</td>\n",
       "    </tr>\n",
       "    <tr>\n",
       "      <th>TRAIN_00002</th>\n",
       "      <td>93</td>\n",
       "      <td>28</td>\n",
       "      <td>282.4</td>\n",
       "      <td>323</td>\n",
       "      <td>34.2</td>\n",
       "      <td>207.0</td>\n",
       "      <td>322</td>\n",
       "      <td>32.82</td>\n",
       "      <td>280.8</td>\n",
       "      <td>328</td>\n",
       "      <td>8.28</td>\n",
       "      <td>0</td>\n",
       "    </tr>\n",
       "    <tr>\n",
       "      <th>TRAIN_00003</th>\n",
       "      <td>223</td>\n",
       "      <td>1</td>\n",
       "      <td>221.4</td>\n",
       "      <td>223</td>\n",
       "      <td>25.1</td>\n",
       "      <td>233.0</td>\n",
       "      <td>61</td>\n",
       "      <td>23.90</td>\n",
       "      <td>203.8</td>\n",
       "      <td>234</td>\n",
       "      <td>9.36</td>\n",
       "      <td>0</td>\n",
       "    </tr>\n",
       "    <tr>\n",
       "      <th>TRAIN_00004</th>\n",
       "      <td>222</td>\n",
       "      <td>0</td>\n",
       "      <td>96.3</td>\n",
       "      <td>222</td>\n",
       "      <td>28.7</td>\n",
       "      <td>223.9</td>\n",
       "      <td>69</td>\n",
       "      <td>28.08</td>\n",
       "      <td>263.1</td>\n",
       "      <td>223</td>\n",
       "      <td>2.80</td>\n",
       "      <td>8</td>\n",
       "    </tr>\n",
       "  </tbody>\n",
       "</table>\n",
       "</div>"
      ],
      "text/plain": [
       "             가입일  음성사서함이용  주간통화시간  주간통화횟수  주간통화요금  저녁통화시간  저녁통화횟수  저녁통화요금  \\\n",
       "ID                                                                          \n",
       "TRAIN_00000  329        0    99.2      93    27.3   268.8      68   28.92   \n",
       "TRAIN_00001    2       80   323.9     323    83.7   269.4     326   32.09   \n",
       "TRAIN_00002   93       28   282.4     323    34.2   207.0     322   32.82   \n",
       "TRAIN_00003  223        1   221.4     223    25.1   233.0      61   23.90   \n",
       "TRAIN_00004  222        0    96.3     222    28.7   223.9      69   28.08   \n",
       "\n",
       "             밤통화시간  밤통화횟수  밤통화요금  상담전화건수  \n",
       "ID                                        \n",
       "TRAIN_00000  262.9    328  32.89       2  \n",
       "TRAIN_00001  322.8    209  32.32       2  \n",
       "TRAIN_00002  280.8    328   8.28       0  \n",
       "TRAIN_00003  203.8    234   9.36       0  \n",
       "TRAIN_00004  263.1    223   2.80       8  "
      ]
     },
     "execution_count": 19,
     "metadata": {},
     "output_type": "execute_result"
    }
   ],
   "source": [
    "X1.head()"
   ]
  },
  {
   "cell_type": "code",
   "execution_count": 20,
   "id": "76bcc400",
   "metadata": {},
   "outputs": [
    {
     "data": {
      "text/html": [
       "<div>\n",
       "<style scoped>\n",
       "    .dataframe tbody tr th:only-of-type {\n",
       "        vertical-align: middle;\n",
       "    }\n",
       "\n",
       "    .dataframe tbody tr th {\n",
       "        vertical-align: top;\n",
       "    }\n",
       "\n",
       "    .dataframe thead th {\n",
       "        text-align: right;\n",
       "    }\n",
       "</style>\n",
       "<table border=\"1\" class=\"dataframe\">\n",
       "  <thead>\n",
       "    <tr style=\"text-align: right;\">\n",
       "      <th></th>\n",
       "      <th>가입일</th>\n",
       "      <th>음성사서함이용</th>\n",
       "      <th>상담전화건수</th>\n",
       "      <th>통화시간</th>\n",
       "      <th>통화횟수</th>\n",
       "      <th>통화요금</th>\n",
       "    </tr>\n",
       "    <tr>\n",
       "      <th>ID</th>\n",
       "      <th></th>\n",
       "      <th></th>\n",
       "      <th></th>\n",
       "      <th></th>\n",
       "      <th></th>\n",
       "      <th></th>\n",
       "    </tr>\n",
       "  </thead>\n",
       "  <tbody>\n",
       "    <tr>\n",
       "      <th>TRAIN_00000</th>\n",
       "      <td>329</td>\n",
       "      <td>0</td>\n",
       "      <td>2</td>\n",
       "      <td>630.9</td>\n",
       "      <td>489</td>\n",
       "      <td>89.11</td>\n",
       "    </tr>\n",
       "    <tr>\n",
       "      <th>TRAIN_00001</th>\n",
       "      <td>2</td>\n",
       "      <td>80</td>\n",
       "      <td>2</td>\n",
       "      <td>916.1</td>\n",
       "      <td>858</td>\n",
       "      <td>148.11</td>\n",
       "    </tr>\n",
       "    <tr>\n",
       "      <th>TRAIN_00002</th>\n",
       "      <td>93</td>\n",
       "      <td>28</td>\n",
       "      <td>0</td>\n",
       "      <td>770.2</td>\n",
       "      <td>973</td>\n",
       "      <td>75.30</td>\n",
       "    </tr>\n",
       "    <tr>\n",
       "      <th>TRAIN_00003</th>\n",
       "      <td>223</td>\n",
       "      <td>1</td>\n",
       "      <td>0</td>\n",
       "      <td>658.2</td>\n",
       "      <td>518</td>\n",
       "      <td>58.36</td>\n",
       "    </tr>\n",
       "    <tr>\n",
       "      <th>TRAIN_00004</th>\n",
       "      <td>222</td>\n",
       "      <td>0</td>\n",
       "      <td>8</td>\n",
       "      <td>583.3</td>\n",
       "      <td>514</td>\n",
       "      <td>59.58</td>\n",
       "    </tr>\n",
       "  </tbody>\n",
       "</table>\n",
       "</div>"
      ],
      "text/plain": [
       "             가입일  음성사서함이용  상담전화건수   통화시간  통화횟수    통화요금\n",
       "ID                                                    \n",
       "TRAIN_00000  329        0       2  630.9   489   89.11\n",
       "TRAIN_00001    2       80       2  916.1   858  148.11\n",
       "TRAIN_00002   93       28       0  770.2   973   75.30\n",
       "TRAIN_00003  223        1       0  658.2   518   58.36\n",
       "TRAIN_00004  222        0       8  583.3   514   59.58"
      ]
     },
     "execution_count": 20,
     "metadata": {},
     "output_type": "execute_result"
    }
   ],
   "source": [
    "X2.head()"
   ]
  },
  {
   "cell_type": "code",
   "execution_count": 21,
   "id": "632a35fa",
   "metadata": {},
   "outputs": [
    {
     "data": {
      "text/plain": [
       "ID\n",
       "TRAIN_00000    0\n",
       "TRAIN_00001    0\n",
       "TRAIN_00002    0\n",
       "TRAIN_00003    0\n",
       "TRAIN_00004    0\n",
       "Name: 전화해지여부, dtype: int64"
      ]
     },
     "execution_count": 21,
     "metadata": {},
     "output_type": "execute_result"
    }
   ],
   "source": [
    "y.head()"
   ]
  },
  {
   "cell_type": "markdown",
   "id": "67ea3305",
   "metadata": {},
   "source": [
    "## 오버 샘플링"
   ]
  },
  {
   "cell_type": "code",
   "execution_count": 22,
   "id": "6fdce208",
   "metadata": {},
   "outputs": [],
   "source": [
    "smote = SMOTE(\n",
    "    random_state=42,\n",
    ")"
   ]
  },
  {
   "cell_type": "code",
   "execution_count": 23,
   "id": "ff57a117",
   "metadata": {},
   "outputs": [],
   "source": [
    "X1o, y1o = smote.fit_resample(X1, y)"
   ]
  },
  {
   "cell_type": "code",
   "execution_count": 24,
   "id": "68fd1141",
   "metadata": {},
   "outputs": [
    {
     "data": {
      "text/plain": [
       "((53764, 12), (53764,))"
      ]
     },
     "execution_count": 24,
     "metadata": {},
     "output_type": "execute_result"
    }
   ],
   "source": [
    "X1o.shape, y1o.shape"
   ]
  },
  {
   "cell_type": "code",
   "execution_count": 25,
   "id": "2658d330",
   "metadata": {},
   "outputs": [
    {
     "data": {
      "text/plain": [
       "0    0.5\n",
       "1    0.5\n",
       "Name: 전화해지여부, dtype: float64"
      ]
     },
     "execution_count": 25,
     "metadata": {},
     "output_type": "execute_result"
    }
   ],
   "source": [
    "y1o.value_counts(1)"
   ]
  },
  {
   "cell_type": "code",
   "execution_count": 26,
   "id": "206f672d",
   "metadata": {},
   "outputs": [],
   "source": [
    "X2o, y2o = smote.fit_resample(X2, y)"
   ]
  },
  {
   "cell_type": "code",
   "execution_count": 27,
   "id": "471144ed",
   "metadata": {},
   "outputs": [
    {
     "data": {
      "text/plain": [
       "((53764, 6), (53764,))"
      ]
     },
     "execution_count": 27,
     "metadata": {},
     "output_type": "execute_result"
    }
   ],
   "source": [
    "X2o.shape, y2o.shape"
   ]
  },
  {
   "cell_type": "code",
   "execution_count": 28,
   "id": "9a2a9f3d",
   "metadata": {},
   "outputs": [
    {
     "data": {
      "text/plain": [
       "0    0.5\n",
       "1    0.5\n",
       "Name: 전화해지여부, dtype: float64"
      ]
     },
     "execution_count": 28,
     "metadata": {},
     "output_type": "execute_result"
    }
   ],
   "source": [
    "y1o.value_counts(1)"
   ]
  },
  {
   "cell_type": "markdown",
   "id": "126db228",
   "metadata": {},
   "source": [
    "## 데이터 스플릿"
   ]
  },
  {
   "cell_type": "code",
   "execution_count": 29,
   "id": "2697adde",
   "metadata": {},
   "outputs": [],
   "source": [
    "X1_train, X1_test, y1_train, y1_test = train_test_split(\n",
    "    X1o, y1o, test_size=0.1, random_state=42, stratify=y1o)"
   ]
  },
  {
   "cell_type": "code",
   "execution_count": 30,
   "id": "08ed3ba9",
   "metadata": {},
   "outputs": [],
   "source": [
    "X2_train, X2_test, y2_train, y2_test = train_test_split(\n",
    "    X2o, y2o, test_size=0.1, random_state=42, stratify=y2o)"
   ]
  },
  {
   "cell_type": "code",
   "execution_count": 208,
   "id": "8e67b586",
   "metadata": {},
   "outputs": [],
   "source": [
    "model = catboost.CatBoostClassifier(\n",
    "    eval_metric='TotalF1',\n",
    "    random_state=42,\n",
    "    logging_level='Silent',\n",
    ")"
   ]
  },
  {
   "cell_type": "code",
   "execution_count": 209,
   "id": "fdb8480e",
   "metadata": {},
   "outputs": [
    {
     "name": "stdout",
     "output_type": "stream",
     "text": [
      "{'n_estimators': [600], 'learning_rate': [0.3], 'grow_policy': ['SymmetricTree', 'Lossguide', 'Depthwise']}\n"
     ]
    }
   ],
   "source": [
    "param_grid = {\n",
    "#     'n_estimators': list(range(200, 301)),\n",
    "    'n_estimators': [600],\n",
    "#     'learning_rate': [lr / 100 for lr in list(range(10, 60, 10))],\n",
    "    'learning_rate': [0.3],\n",
    "    'grow_policy': ['SymmetricTree', 'Lossguide', 'Depthwise']\n",
    "}\n",
    "\n",
    "print(param_grid)"
   ]
  },
  {
   "cell_type": "code",
   "execution_count": null,
   "id": "8c23de0f",
   "metadata": {},
   "outputs": [
    {
     "name": "stdout",
     "output_type": "stream",
     "text": [
      "0:\tloss: 0.9543283\tbest: 0.9543283 (0)\ttotal: 3.79s\tremaining: 7.59s\n",
      "1:\tloss: 0.9560855\tbest: 0.9560855 (1)\ttotal: 12.2s\tremaining: 6.08s\n",
      "2:\tloss: 0.9605280\tbest: 0.9605280 (2)\ttotal: 19.1s\tremaining: 0us\n",
      "Estimating final quality...\n"
     ]
    }
   ],
   "source": [
    "result = model.grid_search(\n",
    "    param_grid=param_grid,\n",
    "    X=X1_train,\n",
    "    y=y1_train,\n",
    "    cv=10\n",
    ")\n",
    "result"
   ]
  },
  {
   "cell_type": "code",
   "execution_count": 182,
   "id": "085eb741",
   "metadata": {},
   "outputs": [
    {
     "data": {
      "text/plain": [
       "{'nan_mode': 'Min',\n",
       " 'eval_metric': 'TotalF1',\n",
       " 'iterations': 294,\n",
       " 'sampling_frequency': 'PerTree',\n",
       " 'leaf_estimation_method': 'Newton',\n",
       " 'grow_policy': 'Lossguide',\n",
       " 'penalties_coefficient': 1,\n",
       " 'boosting_type': 'Plain',\n",
       " 'model_shrink_mode': 'Constant',\n",
       " 'feature_border_type': 'GreedyLogSum',\n",
       " 'bayesian_matrix_reg': 0.10000000149011612,\n",
       " 'eval_fraction': 0,\n",
       " 'force_unit_auto_pair_weights': False,\n",
       " 'l2_leaf_reg': 3,\n",
       " 'random_strength': 1,\n",
       " 'rsm': 1,\n",
       " 'boost_from_average': False,\n",
       " 'model_size_reg': 0.5,\n",
       " 'pool_metainfo_options': {'tags': {}},\n",
       " 'subsample': 0.800000011920929,\n",
       " 'use_best_model': False,\n",
       " 'class_names': [0, 1],\n",
       " 'random_seed': 42,\n",
       " 'depth': 6,\n",
       " 'posterior_sampling': False,\n",
       " 'border_count': 254,\n",
       " 'classes_count': 0,\n",
       " 'auto_class_weights': 'None',\n",
       " 'sparse_features_conflict_fraction': 0,\n",
       " 'leaf_estimation_backtracking': 'AnyImprovement',\n",
       " 'best_model_min_trees': 1,\n",
       " 'model_shrink_rate': 0,\n",
       " 'min_data_in_leaf': 1,\n",
       " 'loss_function': 'Logloss',\n",
       " 'learning_rate': 0.30000001192092896,\n",
       " 'score_function': 'Cosine',\n",
       " 'task_type': 'CPU',\n",
       " 'leaf_estimation_iterations': 10,\n",
       " 'bootstrap_type': 'MVS',\n",
       " 'max_leaves': 31}"
      ]
     },
     "execution_count": 182,
     "metadata": {},
     "output_type": "execute_result"
    }
   ],
   "source": [
    "model.get_all_params()"
   ]
  },
  {
   "cell_type": "code",
   "execution_count": 186,
   "id": "f22e4139",
   "metadata": {},
   "outputs": [
    {
     "data": {
      "text/plain": [
       "['가입일', '음성사서함이용', '상담전화건수', '통화시간', '통화횟수', '통화요금']"
      ]
     },
     "execution_count": 186,
     "metadata": {},
     "output_type": "execute_result"
    }
   ],
   "source": [
    "model.feature_names_"
   ]
  },
  {
   "cell_type": "code",
   "execution_count": 187,
   "id": "120cbc82",
   "metadata": {},
   "outputs": [
    {
     "data": {
      "text/plain": [
       "array([20.78514684, 10.68342541, 14.58457671, 19.07789193, 20.17580803,\n",
       "       14.69315107])"
      ]
     },
     "execution_count": 187,
     "metadata": {},
     "output_type": "execute_result"
    }
   ],
   "source": [
    "model.feature_importances_"
   ]
  },
  {
   "cell_type": "code",
   "execution_count": 188,
   "id": "c74520c6",
   "metadata": {},
   "outputs": [
    {
     "data": {
      "text/html": [
       "<div>\n",
       "<style scoped>\n",
       "    .dataframe tbody tr th:only-of-type {\n",
       "        vertical-align: middle;\n",
       "    }\n",
       "\n",
       "    .dataframe tbody tr th {\n",
       "        vertical-align: top;\n",
       "    }\n",
       "\n",
       "    .dataframe thead th {\n",
       "        text-align: right;\n",
       "    }\n",
       "</style>\n",
       "<table border=\"1\" class=\"dataframe\">\n",
       "  <thead>\n",
       "    <tr style=\"text-align: right;\">\n",
       "      <th></th>\n",
       "      <th>0</th>\n",
       "    </tr>\n",
       "  </thead>\n",
       "  <tbody>\n",
       "    <tr>\n",
       "      <th>음성사서함이용</th>\n",
       "      <td>10.683425</td>\n",
       "    </tr>\n",
       "    <tr>\n",
       "      <th>상담전화건수</th>\n",
       "      <td>14.584577</td>\n",
       "    </tr>\n",
       "    <tr>\n",
       "      <th>통화요금</th>\n",
       "      <td>14.693151</td>\n",
       "    </tr>\n",
       "    <tr>\n",
       "      <th>통화시간</th>\n",
       "      <td>19.077892</td>\n",
       "    </tr>\n",
       "    <tr>\n",
       "      <th>통화횟수</th>\n",
       "      <td>20.175808</td>\n",
       "    </tr>\n",
       "    <tr>\n",
       "      <th>가입일</th>\n",
       "      <td>20.785147</td>\n",
       "    </tr>\n",
       "  </tbody>\n",
       "</table>\n",
       "</div>"
      ],
      "text/plain": [
       "                 0\n",
       "음성사서함이용  10.683425\n",
       "상담전화건수   14.584577\n",
       "통화요금     14.693151\n",
       "통화시간     19.077892\n",
       "통화횟수     20.175808\n",
       "가입일      20.785147"
      ]
     },
     "execution_count": 188,
     "metadata": {},
     "output_type": "execute_result"
    }
   ],
   "source": [
    "pd.DataFrame(\n",
    "    model.feature_importances_, index=model.feature_names_\n",
    ").sort_values(0)"
   ]
  },
  {
   "cell_type": "code",
   "execution_count": 189,
   "id": "324a1d66",
   "metadata": {},
   "outputs": [],
   "source": [
    "model.save_model(\n",
    "    fname='cat_model_3',\n",
    "#     export_parameters=model.get_all_params()\n",
    ")"
   ]
  },
  {
   "cell_type": "code",
   "execution_count": 190,
   "id": "f19595c1",
   "metadata": {},
   "outputs": [
    {
     "data": {
      "text/html": [
       "<div>\n",
       "<style scoped>\n",
       "    .dataframe tbody tr th:only-of-type {\n",
       "        vertical-align: middle;\n",
       "    }\n",
       "\n",
       "    .dataframe tbody tr th {\n",
       "        vertical-align: top;\n",
       "    }\n",
       "\n",
       "    .dataframe thead th {\n",
       "        text-align: right;\n",
       "    }\n",
       "</style>\n",
       "<table border=\"1\" class=\"dataframe\">\n",
       "  <thead>\n",
       "    <tr style=\"text-align: right;\">\n",
       "      <th></th>\n",
       "      <th>params</th>\n",
       "      <th>cv_results</th>\n",
       "    </tr>\n",
       "  </thead>\n",
       "  <tbody>\n",
       "    <tr>\n",
       "      <th>iterations</th>\n",
       "      <td>600</td>\n",
       "      <td>[0, 1, 2, 3, 4, 5, 6, 7, 8, 9, 10, 11, 12, 13,...</td>\n",
       "    </tr>\n",
       "    <tr>\n",
       "      <th>learning_rate</th>\n",
       "      <td>0.3</td>\n",
       "      <td>NaN</td>\n",
       "    </tr>\n",
       "    <tr>\n",
       "      <th>grow_policy</th>\n",
       "      <td>Lossguide</td>\n",
       "      <td>NaN</td>\n",
       "    </tr>\n",
       "    <tr>\n",
       "      <th>test-TotalF1-mean</th>\n",
       "      <td>NaN</td>\n",
       "      <td>[0.6505257678425725, 0.6665229077490376, 0.672...</td>\n",
       "    </tr>\n",
       "    <tr>\n",
       "      <th>test-TotalF1-std</th>\n",
       "      <td>NaN</td>\n",
       "      <td>[0.004865480519942294, 0.007117019925526583, 0...</td>\n",
       "    </tr>\n",
       "    <tr>\n",
       "      <th>train-TotalF1-mean</th>\n",
       "      <td>NaN</td>\n",
       "      <td>[0.6519394382267802, 0.6691449256367401, 0.675...</td>\n",
       "    </tr>\n",
       "    <tr>\n",
       "      <th>train-TotalF1-std</th>\n",
       "      <td>NaN</td>\n",
       "      <td>[0.004869844978021255, 0.004754321822742322, 0...</td>\n",
       "    </tr>\n",
       "    <tr>\n",
       "      <th>test-Logloss-mean</th>\n",
       "      <td>NaN</td>\n",
       "      <td>[0.6571899504434847, 0.6332777211195679, 0.614...</td>\n",
       "    </tr>\n",
       "    <tr>\n",
       "      <th>test-Logloss-std</th>\n",
       "      <td>NaN</td>\n",
       "      <td>[0.0012509025379496632, 0.002788013787660109, ...</td>\n",
       "    </tr>\n",
       "    <tr>\n",
       "      <th>train-Logloss-mean</th>\n",
       "      <td>NaN</td>\n",
       "      <td>[0.6561932154508735, 0.631601156731712, 0.6118...</td>\n",
       "    </tr>\n",
       "    <tr>\n",
       "      <th>train-Logloss-std</th>\n",
       "      <td>NaN</td>\n",
       "      <td>[0.0011605279217259527, 0.0025068927777337747,...</td>\n",
       "    </tr>\n",
       "  </tbody>\n",
       "</table>\n",
       "</div>"
      ],
      "text/plain": [
       "                       params  \\\n",
       "iterations                600   \n",
       "learning_rate             0.3   \n",
       "grow_policy         Lossguide   \n",
       "test-TotalF1-mean         NaN   \n",
       "test-TotalF1-std          NaN   \n",
       "train-TotalF1-mean        NaN   \n",
       "train-TotalF1-std         NaN   \n",
       "test-Logloss-mean         NaN   \n",
       "test-Logloss-std          NaN   \n",
       "train-Logloss-mean        NaN   \n",
       "train-Logloss-std         NaN   \n",
       "\n",
       "                                                           cv_results  \n",
       "iterations          [0, 1, 2, 3, 4, 5, 6, 7, 8, 9, 10, 11, 12, 13,...  \n",
       "learning_rate                                                     NaN  \n",
       "grow_policy                                                       NaN  \n",
       "test-TotalF1-mean   [0.6505257678425725, 0.6665229077490376, 0.672...  \n",
       "test-TotalF1-std    [0.004865480519942294, 0.007117019925526583, 0...  \n",
       "train-TotalF1-mean  [0.6519394382267802, 0.6691449256367401, 0.675...  \n",
       "train-TotalF1-std   [0.004869844978021255, 0.004754321822742322, 0...  \n",
       "test-Logloss-mean   [0.6571899504434847, 0.6332777211195679, 0.614...  \n",
       "test-Logloss-std    [0.0012509025379496632, 0.002788013787660109, ...  \n",
       "train-Logloss-mean  [0.6561932154508735, 0.631601156731712, 0.6118...  \n",
       "train-Logloss-std   [0.0011605279217259527, 0.0025068927777337747,...  "
      ]
     },
     "execution_count": 190,
     "metadata": {},
     "output_type": "execute_result"
    }
   ],
   "source": [
    "df_result = pd.DataFrame(result)\n",
    "df_result"
   ]
  },
  {
   "cell_type": "code",
   "execution_count": 191,
   "id": "e805ee78",
   "metadata": {},
   "outputs": [
    {
     "data": {
      "text/plain": [
       "<AxesSubplot:>"
      ]
     },
     "execution_count": 191,
     "metadata": {},
     "output_type": "execute_result"
    },
    {
     "data": {
      "image/png": "[encoded data removed]",
      "text/plain": [
       "<Figure size 640x480 with 1 Axes>"
      ]
     },
     "metadata": {},
     "output_type": "display_data"
    }
   ],
   "source": [
    "pd.DataFrame({\n",
    "    'train-R2-mean': df_result.loc['train-TotalF1-mean', 'cv_results'],\n",
    "    'test-R2-mean': df_result.loc['test-TotalF1-mean', 'cv_results']\n",
    "}).plot()"
   ]
  },
  {
   "cell_type": "code",
   "execution_count": 192,
   "id": "ed28df88",
   "metadata": {},
   "outputs": [
    {
     "data": {
      "text/plain": [
       "<catboost.core.CatBoostClassifier at 0x7fec0c414850>"
      ]
     },
     "execution_count": 192,
     "metadata": {},
     "output_type": "execute_result"
    }
   ],
   "source": [
    "model.fit(X2_train, y2_train)"
   ]
  },
  {
   "cell_type": "code",
   "execution_count": 196,
   "id": "75f31bed",
   "metadata": {},
   "outputs": [],
   "source": [
    "y2_pred = model.predict(X2_test)"
   ]
  },
  {
   "cell_type": "code",
   "execution_count": 197,
   "id": "831d77af",
   "metadata": {},
   "outputs": [
    {
     "data": {
      "text/plain": [
       "0.919417296699244"
      ]
     },
     "execution_count": 197,
     "metadata": {},
     "output_type": "execute_result"
    }
   ],
   "source": [
    "y1_f1_score = f1_score(y2_test, y2_pred)\n",
    "y1_f1_score"
   ]
  },
  {
   "cell_type": "code",
   "execution_count": 198,
   "id": "a021b80c",
   "metadata": {},
   "outputs": [],
   "source": [
    "pred = model.predict(test[['가입일', '음성사서함이용', '상담전화건수', '통화시간', '통화횟수', '통화요금']])"
   ]
  },
  {
   "cell_type": "code",
   "execution_count": 199,
   "id": "80836cf5",
   "metadata": {},
   "outputs": [
    {
     "data": {
      "text/plain": [
       "array([0, 0, 0, 1, 1])"
      ]
     },
     "execution_count": 199,
     "metadata": {},
     "output_type": "execute_result"
    }
   ],
   "source": [
    "pred[:5]"
   ]
  },
  {
   "cell_type": "code",
   "execution_count": 200,
   "id": "c6707b6b",
   "metadata": {},
   "outputs": [
    {
     "data": {
      "text/plain": [
       "12943"
      ]
     },
     "execution_count": 200,
     "metadata": {},
     "output_type": "execute_result"
    }
   ],
   "source": [
    "len(pred)"
   ]
  },
  {
   "cell_type": "code",
   "execution_count": 201,
   "id": "1a494aba",
   "metadata": {},
   "outputs": [
    {
     "data": {
      "text/plain": [
       "0    11061\n",
       "1     1882\n",
       "dtype: int64"
      ]
     },
     "execution_count": 201,
     "metadata": {},
     "output_type": "execute_result"
    }
   ],
   "source": [
    "pd.DataFrame(pred).value_counts()"
   ]
  },
  {
   "cell_type": "code",
   "execution_count": 202,
   "id": "b1f12a33",
   "metadata": {},
   "outputs": [],
   "source": [
    "submission = pd.read_csv('./data/sample_submission.csv', index_col='ID')"
   ]
  },
  {
   "cell_type": "code",
   "execution_count": 203,
   "id": "d7459c72",
   "metadata": {},
   "outputs": [],
   "source": [
    "submission['전화해지여부'] = pred"
   ]
  },
  {
   "cell_type": "code",
   "execution_count": 204,
   "id": "d94edbc6",
   "metadata": {},
   "outputs": [
    {
     "data": {
      "text/html": [
       "<div>\n",
       "<style scoped>\n",
       "    .dataframe tbody tr th:only-of-type {\n",
       "        vertical-align: middle;\n",
       "    }\n",
       "\n",
       "    .dataframe tbody tr th {\n",
       "        vertical-align: top;\n",
       "    }\n",
       "\n",
       "    .dataframe thead th {\n",
       "        text-align: right;\n",
       "    }\n",
       "</style>\n",
       "<table border=\"1\" class=\"dataframe\">\n",
       "  <thead>\n",
       "    <tr style=\"text-align: right;\">\n",
       "      <th></th>\n",
       "      <th>전화해지여부</th>\n",
       "    </tr>\n",
       "    <tr>\n",
       "      <th>ID</th>\n",
       "      <th></th>\n",
       "    </tr>\n",
       "  </thead>\n",
       "  <tbody>\n",
       "    <tr>\n",
       "      <th>TEST_00000</th>\n",
       "      <td>0</td>\n",
       "    </tr>\n",
       "    <tr>\n",
       "      <th>TEST_00001</th>\n",
       "      <td>0</td>\n",
       "    </tr>\n",
       "    <tr>\n",
       "      <th>TEST_00002</th>\n",
       "      <td>0</td>\n",
       "    </tr>\n",
       "    <tr>\n",
       "      <th>TEST_00003</th>\n",
       "      <td>1</td>\n",
       "    </tr>\n",
       "    <tr>\n",
       "      <th>TEST_00004</th>\n",
       "      <td>1</td>\n",
       "    </tr>\n",
       "  </tbody>\n",
       "</table>\n",
       "</div>"
      ],
      "text/plain": [
       "            전화해지여부\n",
       "ID                \n",
       "TEST_00000       0\n",
       "TEST_00001       0\n",
       "TEST_00002       0\n",
       "TEST_00003       1\n",
       "TEST_00004       1"
      ]
     },
     "execution_count": 204,
     "metadata": {},
     "output_type": "execute_result"
    }
   ],
   "source": [
    "submission.head()"
   ]
  },
  {
   "cell_type": "code",
   "execution_count": 205,
   "id": "eeee3a99",
   "metadata": {},
   "outputs": [
    {
     "data": {
      "text/plain": [
       "전화해지여부\n",
       "0         11061\n",
       "1          1882\n",
       "dtype: int64"
      ]
     },
     "execution_count": 205,
     "metadata": {},
     "output_type": "execute_result"
    }
   ],
   "source": [
    "submission.value_counts()"
   ]
  },
  {
   "cell_type": "code",
   "execution_count": 206,
   "id": "5fd6bff0",
   "metadata": {},
   "outputs": [],
   "source": [
    "file_name = f'./submit/cat_{y1_f1_score:.5f}.csv'"
   ]
  },
  {
   "cell_type": "code",
   "execution_count": 207,
   "id": "d30856bb",
   "metadata": {},
   "outputs": [],
   "source": [
    "submission.to_csv(file_name)"
   ]
  },
  {
   "cell_type": "code",
   "execution_count": null,
   "id": "3c8bf782",
   "metadata": {},
   "outputs": [],
   "source": []
  }
 ],
 "metadata": {
  "kernelspec": {
   "display_name": "Python 3 (ipykernel)",
   "language": "python",
   "name": "python3"
  },
  "language_info": {
   "codemirror_mode": {
    "name": "ipython",
    "version": 3
   },
   "file_extension": ".py",
   "mimetype": "text/x-python",
   "name": "python",
   "nbconvert_exporter": "python",
   "pygments_lexer": "ipython3",
   "version": "3.9.13"
  },
  "toc": {
   "base_numbering": 1,
   "nav_menu": {},
   "number_sections": true,
   "sideBar": true,
   "skip_h1_title": true,
   "title_cell": "Index",
   "title_sidebar": "Index",
   "toc_cell": false,
   "toc_position": {},
   "toc_section_display": true,
   "toc_window_display": true
  }
 },
 "nbformat": 4,
 "nbformat_minor": 5
}
